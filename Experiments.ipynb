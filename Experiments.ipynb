{
 "cells": [
  {
   "attachments": {},
   "cell_type": "markdown",
   "metadata": {},
   "source": [
    "# EE-411: Final project\n",
    "## Reproducibility challenge: Reconciling modern machine learning practice and the bias-variance trade-off\n",
    "### Defne Culha, Hector M. Ramírez C., Riselda Kodra and Valgerdur Jónsdóttir "
   ]
  },
  {
   "attachments": {},
   "cell_type": "markdown",
   "metadata": {},
   "source": [
    "In this project, we will attempt to reproduce some of the results that are shown in the following paper: Reconciling modern machine learning practice and the bias-variance trade-off [1]. The paper introduces the concept of double descent, a phenomenon that seems to contradict the bias-variance trade-off in classical statistics, namely that having too many parameters, i.e., having a high model complexity, will yield an extremely large error. Modern machine learning techniques, such as neural networks, show that increasing the model complexity beyond a certain point of interpolation does in fact result in improved performance. The paper provides evidence for existence of double descent for a number of models and datasets, and in our reproduction of its results, we will focus on neural network and ensemble methods such as Random Forests.\n",
    "\n",
    "[1] https://arxiv.org/abs/1812.11118"
   ]
  },
  {
   "attachments": {},
   "cell_type": "markdown",
   "metadata": {},
   "source": [
    "The paper's results will be reproduced for three types of models:\n",
    "- Fourier features model\n",
    "- Fully connected two-layer neural network\n",
    "- Random Forest model"
   ]
  },
  {
   "cell_type": "code",
   "execution_count": 287,
   "metadata": {},
   "outputs": [],
   "source": [
    "# import libraries\n",
    "import torch\n",
    "import torch.nn as nn\n",
    "import torch.nn.functional as F\n",
    "import torch.optim as optim\n",
    "import torchvision\n",
    "from torchvision import datasets, transforms\n",
    "from torch.utils import data\n",
    "from torch.utils.data import DataLoader\n",
    "from torch.utils.data import Subset\n",
    "from torch.nn import MSELoss\n",
    "\n",
    "import matplotlib.pyplot as plt\n",
    "import pandas as pd\n",
    "import numpy as np\n",
    "from tqdm import tqdm\n",
    "\n",
    "import sklearn\n",
    "from sklearn.datasets import fetch_openml\n",
    "from sklearn.model_selection import train_test_split\n",
    "from sklearn.linear_model import LogisticRegression\n",
    "from sklearn.ensemble import RandomForestClassifier\n",
    "from sklearn.metrics import zero_one_loss\n",
    "from sklearn.metrics import mean_squared_error"
   ]
  },
  {
   "attachments": {},
   "cell_type": "markdown",
   "metadata": {},
   "source": [
    "## MNIST: Importing the dataset"
   ]
  },
  {
   "attachments": {},
   "cell_type": "markdown",
   "metadata": {},
   "source": [
    "We import the data in two ways, first with a PyTorch implementation for the neural network approach and then with a scikit-learn implementation for the ensemble method approach."
   ]
  },
  {
   "cell_type": "markdown",
   "metadata": {},
   "source": [
    "### PyTorch implementation"
   ]
  },
  {
   "cell_type": "code",
   "execution_count": 288,
   "metadata": {},
   "outputs": [],
   "source": [
    "def get_mnist_data_pytorch():\n",
    "    '''\n",
    "    Return pytorch dataset object for the MNIST dataset \n",
    "    :return: train_dataset, test_dataset\n",
    "    '''\n",
    "    # load data\n",
    "    train_dataset = datasets.MNIST(root='./data', train=True, download=True, transform=transforms.ToTensor())\n",
    "    test_dataset = datasets.MNIST(root='./data', train=False, download=True, transform=transforms.ToTensor())\n",
    "    return train_dataset, test_dataset"
   ]
  },
  {
   "cell_type": "code",
   "execution_count": 290,
   "metadata": {},
   "outputs": [
    {
     "name": "stdout",
     "output_type": "stream",
     "text": [
      "Number of training samples:  60000\n",
      "Number of test samples:  10000\n"
     ]
    }
   ],
   "source": [
    "training_dataset, test_dataset = get_mnist_data_pytorch()\n",
    "print(\"Number of training samples: \", len(training_dataset))\n",
    "print(\"Number of test samples: \", len(test_dataset))"
   ]
  },
  {
   "cell_type": "code",
   "execution_count": 291,
   "metadata": {},
   "outputs": [
    {
     "data": {
      "image/png": "[encoded data removed]",
      "text/plain": [
       "<Figure size 800x800 with 9 Axes>"
      ]
     },
     "metadata": {},
     "output_type": "display_data"
    }
   ],
   "source": [
    "# plot the data\n",
    "labels_map_minst = {\n",
    "    0: \"0\",\n",
    "    1: \"1\",\n",
    "    2: \"2\",\n",
    "    3: \"3\",\n",
    "    4: \"4\",\n",
    "    5: \"5\",\n",
    "    6: \"6\",\n",
    "    7: \"7\",\n",
    "    8: \"8\",\n",
    "    9: \"9\",\n",
    "}\n",
    "\n",
    "figure = plt.figure(figsize=(8, 8))\n",
    "cols, rows = 3, 3\n",
    "for i in range(1, cols * rows + 1):\n",
    "    sample_idx = torch.randint(len(training_dataset), size=(1,)).item()\n",
    "    img, label = training_dataset[sample_idx]\n",
    "    figure.add_subplot(rows, cols, i)\n",
    "    plt.title(labels_map_minst[label])\n",
    "    plt.axis(\"off\")\n",
    "    plt.imshow(img.squeeze(), cmap=\"gray\")\n",
    "plt.show()"
   ]
  },
  {
   "cell_type": "markdown",
   "metadata": {},
   "source": [
    "### scikit-learn implementation"
   ]
  },
  {
   "cell_type": "code",
   "execution_count": 292,
   "metadata": {},
   "outputs": [],
   "source": [
    "def get_mnist_data_sklearn(number_of_samples = 10000, split_percentage = 0.40):\n",
    "    '''\n",
    "    Return a subset of the MNIST dataset with the given number of samples\n",
    "    :param number_of_samples: the number of samples to be returned\n",
    "    :param split_percentage: the percentage of the data to be used for testing\n",
    "    :return: X_train, X_test, y_train, y_test\n",
    "    '''\n",
    "    if (number_of_samples > 100000):\n",
    "        raise Exception(\"Number of samples must be smaller than 100.000\")\n",
    "    X, y = fetch_openml('mnist_784', version=1, return_X_y=True, as_frame=False)\n",
    "    X = X[:number_of_samples]\n",
    "    y = y[:number_of_samples]\n",
    "    X_train, X_test, y_train, y_test = train_test_split(X, y, test_size=split_percentage, random_state=42)\n",
    "    \n",
    "    return X_train, X_test, y_train, y_test"
   ]
  },
  {
   "cell_type": "code",
   "execution_count": 293,
   "metadata": {},
   "outputs": [
    {
     "name": "stdout",
     "output_type": "stream",
     "text": [
      "Number of training samples:  6000\n",
      "Number of test samples:  4000\n",
      "Number of train and test samples:  10000\n",
      "Number of features:  784\n",
      "Number of classes:  10\n"
     ]
    }
   ],
   "source": [
    "X_train, X_test, y_train, y_test = get_mnist_data_sklearn(10000, 0.40)\n",
    "print(\"Number of training samples: \", len(X_train))\n",
    "print(\"Number of test samples: \", len(X_test))\n",
    "print(\"Number of train and test samples: \", len(X_train) + len(X_test))\n",
    "print(\"Number of features: \", len(X_train[0]))\n",
    "print(\"Number of classes: \", len(np.unique(y_train)))"
   ]
  },
  {
   "cell_type": "code",
   "execution_count": 294,
   "metadata": {},
   "outputs": [],
   "source": [
    "def plot_mnist_sklearn(X, y):\n",
    "    '''\n",
    "    Plot the first 9 images of the MNIST dataset\n",
    "    :param X: the data\n",
    "    :param y: the labels\n",
    "    '''\n",
    "    figure = plt.figure(figsize=(8, 8))\n",
    "    cols, rows = 3, 3\n",
    "    for i in range(1, cols * rows + 1):\n",
    "        sample_idx = np.random.randint(len(X))\n",
    "        img = X[sample_idx]\n",
    "        label = y[sample_idx]\n",
    "        figure.add_subplot(rows, cols, i)\n",
    "        plt.title(label)\n",
    "        plt.axis(\"off\")\n",
    "        plt.imshow(img.reshape(28,28), cmap=\"gray\")\n",
    "    plt.show()\n",
    "        "
   ]
  },
  {
   "cell_type": "code",
   "execution_count": 295,
   "metadata": {},
   "outputs": [
    {
     "data": {
      "image/png": "[encoded data removed]",
      "text/plain": [
       "<Figure size 800x800 with 9 Axes>"
      ]
     },
     "metadata": {},
     "output_type": "display_data"
    }
   ],
   "source": [
    "plot_mnist_sklearn(X_train, y_train)"
   ]
  },
  {
   "cell_type": "markdown",
   "metadata": {},
   "source": [
    "### Attempt 1: Fourier features\n",
    "##### Made by: Hector Ramirez"
   ]
  },
  {
   "cell_type": "code",
   "execution_count": 9,
   "metadata": {},
   "outputs": [],
   "source": [
    "from sklearn.metrics import zero_one_loss\n",
    "from sklearn.metrics import mean_squared_error\n",
    "\n",
    "def sk_zero_one_loss(y_true, y_pred):\n",
    "    '''\n",
    "    Returns the percentage of misclassifications\n",
    "    :param y_true: ground truth (correct) labels\n",
    "    :param y_pred: predicted labels, as returned by a classifier\n",
    "    :return: the zero-one classification loss\n",
    "    '''\n",
    "    return zero_one_loss(y_true, y_pred)*100\n",
    "\n",
    "def sk_mean_squared_error(y_true, y_pred):\n",
    "    '''\n",
    "    Returns the mean squared error regression loss\n",
    "    :param y_true: ground truth (correct) labels\n",
    "    :param y_pred: predicted labels, as returned by a classifier\n",
    "    :return: the mean squared error regression loss\n",
    "    '''\n",
    "    return mean_squared_error(y_true, y_pred)\n",
    "\n",
    "def one_hot_encode(data, classes=10):\n",
    "    '''\n",
    "    Represent categorical variables as binary vectors.\n",
    "    :param data: an array that we perform the One Hot Encoding on, i.e., we transform each datapoint to a binary vector\n",
    "    :param classes: number of classes we aim to identify in the dataset\n",
    "    :return: onehot_encoded, a stack of one-hot vectors\n",
    "    '''\n",
    "    onehot_encoded = []\n",
    "    for value in data:\n",
    "        vec = np.array([0] * classes)\n",
    "        vec[int(value)] = 1\n",
    "        onehot_encoded.append(vec)\n",
    "        \n",
    "    return np.stack(onehot_encoded)"
   ]
  },
  {
   "cell_type": "code",
   "execution_count": 10,
   "metadata": {},
   "outputs": [],
   "source": [
    "# I will start with Random Features as it is also an approximation of the kernel trick\n",
    "\n",
    "### This is just the sigmoid function\n",
    "def sigmoid(x):\n",
    "    return 1 / (1 + np.exp(-x))\n",
    "\n",
    "#d = dim of the column vector x\n",
    "#D is the number of features wanted in the output\n",
    "def u_vectors(X_test, X_train ,D):\n",
    "    \"\"\"_summary_\n",
    "    Args:\n",
    "        X (matrix): Data matrix to transform dim (n,d)\n",
    "        D int: Number of features wanted in the output\n",
    "\n",
    "    Returns:\n",
    "        u_test (matrix): matrix of the new features dim (n,D)\n",
    "        u_train (matrix): matrix of the new features dim (n,D)\n",
    "    \"\"\"\n",
    "    ## the d is the number of columns of X\n",
    "    d= X_test.shape[1]\n",
    "    F = np.random.normal(0,1/np.sqrt(d),(D, d))\n",
    "    # I have to use the same F for the test and the train set to be consistent\n",
    "    u_test = np.zeros((X_test.shape[0],D))\n",
    "    u_train = np.zeros((X_train.shape[0],D))\n",
    "    # Generating the new test set \n",
    "    for i in range(X_test.shape[0]):\n",
    "        u_test[i,:] = (1/np.sqrt(D))*sigmoid(F@X_test[i])\n",
    "    # Generating the training set \n",
    "    for j in range(X_train.shape[0]):\n",
    "        u_train[j,:] = (1/np.sqrt(D))*sigmoid(F@X_train[j])\n",
    "    \n",
    "    return u_test, u_train"
   ]
  },
  {
   "cell_type": "code",
   "execution_count": 11,
   "metadata": {},
   "outputs": [],
   "source": [
    "def to_random_features(training_set, test_set, D):\n",
    "    X_train = training_set.data.numpy().reshape(training_set.data.shape[0],-1)\n",
    "    X_test = test_set.data.numpy().reshape(test_set.data.shape[0],-1)\n",
    "    y_train = training_set.targets.numpy()\n",
    "    y_test = test_set.targets.numpy()\n",
    "    u_test, u_train = u_vectors(X_test, X_train, D)\n",
    "    #Transform sets to numpy arrays\n",
    "    #store the labels and the images in two different arrays\n",
    "    #I can use the same training set for the test set as\n",
    "    # validation set and let sk learn do the splitting\n",
    "    \n",
    "    return u_train, y_train, u_test, y_test"
   ]
  },
  {
   "cell_type": "code",
   "execution_count": 12,
   "metadata": {},
   "outputs": [],
   "source": [
    "# First I will make sure it works with a small number of features\n",
    "D = 100\n",
    "X_train, y_train, X_test, y_test = to_random_features(\n",
    "    training_dataset,\n",
    "    test_dataset,\n",
    "    D)"
   ]
  },
  {
   "cell_type": "code",
   "execution_count": 13,
   "metadata": {},
   "outputs": [],
   "source": [
    "from sklearn.linear_model import LogisticRegression\n",
    "from sklearn.linear_model import LinearRegression\n",
    "\n",
    "def train_model(X_test, X_train, y_test, y_train):\n",
    "    lsc = LinearRegression(fit_intercept=True, normalize=False, copy_X=True, n_jobs=None)\n",
    "    lsc.fit(X_train, y_train)\n",
    "    \n",
    "    clf = LogisticRegression(random_state=0, max_iter=1000, multi_class='multinomial')\n",
    "    clf.fit(X_train, y_train)\n",
    "    \n",
    "\n",
    "    test_error = 1 - clf.score(X_test, y_test)\n",
    "    train_error = 1 - clf.score(X_train, y_train)\n",
    "    print(\"Accuracy on the test set: \", clf.score(X_test, y_test))\n",
    "    print(\"Accuracy on the training set: \", clf.score(X_train, y_train))\n",
    "    \n",
    "    weights = clf.coef_\n",
    "    norm = np.linalg.norm(weights, axis=1).mean()\n",
    "    number_of_features = X_train.shape[1]\n",
    "    print(\"number of features: \", number_of_features)\n",
    "    \n",
    "     # find training loss\n",
    "    zero_one_train_loss = sk_zero_one_loss(y_train, clf.predict(X_train))\n",
    "    mse_train_loss = sk_mean_squared_error(y_train, lsc.predict(X_train))\n",
    "    #mse_train_loss = sk_mean_squared_error(one_hot_encode(y_train), one_hot_encode(clf.predict(X_train)))\n",
    "    \n",
    "    # find testing loss\n",
    "    zero_one_test_loss = sk_zero_one_loss(y_test, clf.predict(X_test))   \n",
    "    mse_test_loss = sk_mean_squared_error(y_test, lsc.predict(X_test))\n",
    "    #mse_test_loss = sk_mean_squared_error(one_hot_encode(y_test), one_hot_encode(clf.predict(X_test)))\n",
    "    \n",
    "    return number_of_features, zero_one_train_loss, zero_one_test_loss, mse_train_loss, mse_test_loss, norm\n",
    "\n",
    "\n",
    "\n"
   ]
  },
  {
   "cell_type": "code",
   "execution_count": 14,
   "metadata": {},
   "outputs": [
    {
     "data": {
      "text/plain": [
       "array([ 1000,  2357,  3714,  5071,  6428,  7785,  9142, 10500, 11857,\n",
       "       13214, 14571, 15928, 17285, 18642, 20000])"
      ]
     },
     "execution_count": 14,
     "metadata": {},
     "output_type": "execute_result"
    }
   ],
   "source": [
    "Random_features = np.linspace(1000, 20000, 15, dtype=int)\n",
    "#Random_features = np.append(Random_features, [30000, 40000, 50000, 60000])\n",
    "train_loss = []\n",
    "test_loss = []\n",
    "\n",
    "Random_features"
   ]
  },
  {
   "cell_type": "code",
   "execution_count": 15,
   "metadata": {},
   "outputs": [
    {
     "name": "stderr",
     "output_type": "stream",
     "text": [
      "Random Features:   0%|          | 0/15 [00:00<?, ?it/s]c:\\Users\\hecma\\anaconda3\\lib\\site-packages\\sklearn\\linear_model\\_base.py:148: FutureWarning: 'normalize' was deprecated in version 1.0 and will be removed in 1.2. Please leave the normalize parameter to its default value to silence this warning. The default behavior of this estimator is to not do any normalization. If normalization is needed please use sklearn.preprocessing.StandardScaler instead.\n",
      "  warnings.warn(\n"
     ]
    },
    {
     "name": "stdout",
     "output_type": "stream",
     "text": [
      "Accuracy on the test set:  0.9219\n",
      "Accuracy on the training set:  0.9224\n",
      "number of features:  1000\n"
     ]
    },
    {
     "name": "stderr",
     "output_type": "stream",
     "text": [
      "C:\\Users\\hecma\\AppData\\Local\\Temp\\ipykernel_38616\\3814032013.py:13: FutureWarning: The frame.append method is deprecated and will be removed from pandas in a future version. Use pandas.concat instead.\n",
      "  RF_df = RF_df.append(\n",
      "Random Features:   7%|▋         | 1/15 [00:23<05:32, 23.77s/it]c:\\Users\\hecma\\anaconda3\\lib\\site-packages\\sklearn\\linear_model\\_base.py:148: FutureWarning: 'normalize' was deprecated in version 1.0 and will be removed in 1.2. Please leave the normalize parameter to its default value to silence this warning. The default behavior of this estimator is to not do any normalization. If normalization is needed please use sklearn.preprocessing.StandardScaler instead.\n",
      "  warnings.warn(\n"
     ]
    },
    {
     "name": "stdout",
     "output_type": "stream",
     "text": [
      "Accuracy on the test set:  0.9289\n",
      "Accuracy on the training set:  0.9296333333333333\n",
      "number of features:  2357\n"
     ]
    },
    {
     "name": "stderr",
     "output_type": "stream",
     "text": [
      "C:\\Users\\hecma\\AppData\\Local\\Temp\\ipykernel_38616\\3814032013.py:13: FutureWarning: The frame.append method is deprecated and will be removed from pandas in a future version. Use pandas.concat instead.\n",
      "  RF_df = RF_df.append(\n",
      "Random Features:  13%|█▎        | 2/15 [01:12<08:21, 38.61s/it]c:\\Users\\hecma\\anaconda3\\lib\\site-packages\\sklearn\\linear_model\\_base.py:148: FutureWarning: 'normalize' was deprecated in version 1.0 and will be removed in 1.2. Please leave the normalize parameter to its default value to silence this warning. The default behavior of this estimator is to not do any normalization. If normalization is needed please use sklearn.preprocessing.StandardScaler instead.\n",
      "  warnings.warn(\n"
     ]
    },
    {
     "name": "stdout",
     "output_type": "stream",
     "text": [
      "Accuracy on the test set:  0.931\n",
      "Accuracy on the training set:  0.93135\n",
      "number of features:  3714\n"
     ]
    },
    {
     "name": "stderr",
     "output_type": "stream",
     "text": [
      "C:\\Users\\hecma\\AppData\\Local\\Temp\\ipykernel_38616\\3814032013.py:13: FutureWarning: The frame.append method is deprecated and will be removed from pandas in a future version. Use pandas.concat instead.\n",
      "  RF_df = RF_df.append(\n",
      "Random Features:  20%|██        | 3/15 [02:33<11:32, 57.70s/it]c:\\Users\\hecma\\anaconda3\\lib\\site-packages\\sklearn\\linear_model\\_base.py:148: FutureWarning: 'normalize' was deprecated in version 1.0 and will be removed in 1.2. Please leave the normalize parameter to its default value to silence this warning. The default behavior of this estimator is to not do any normalization. If normalization is needed please use sklearn.preprocessing.StandardScaler instead.\n",
      "  warnings.warn(\n"
     ]
    },
    {
     "name": "stdout",
     "output_type": "stream",
     "text": [
      "Accuracy on the test set:  0.9311\n",
      "Accuracy on the training set:  0.9315\n",
      "number of features:  5071\n"
     ]
    },
    {
     "name": "stderr",
     "output_type": "stream",
     "text": [
      "C:\\Users\\hecma\\AppData\\Local\\Temp\\ipykernel_38616\\3814032013.py:13: FutureWarning: The frame.append method is deprecated and will be removed from pandas in a future version. Use pandas.concat instead.\n",
      "  RF_df = RF_df.append(\n",
      "Random Features:  27%|██▋       | 4/15 [04:24<14:29, 79.03s/it]C:\\Users\\hecma\\AppData\\Local\\Temp\\ipykernel_38616\\1457717485.py:5: RuntimeWarning: overflow encountered in exp\n",
      "  return 1 / (1 + np.exp(-x))\n",
      "c:\\Users\\hecma\\anaconda3\\lib\\site-packages\\sklearn\\linear_model\\_base.py:148: FutureWarning: 'normalize' was deprecated in version 1.0 and will be removed in 1.2. Please leave the normalize parameter to its default value to silence this warning. The default behavior of this estimator is to not do any normalization. If normalization is needed please use sklearn.preprocessing.StandardScaler instead.\n",
      "  warnings.warn(\n"
     ]
    },
    {
     "name": "stdout",
     "output_type": "stream",
     "text": [
      "Accuracy on the test set:  0.9308\n",
      "Accuracy on the training set:  0.9327333333333333\n",
      "number of features:  6428\n"
     ]
    },
    {
     "name": "stderr",
     "output_type": "stream",
     "text": [
      "C:\\Users\\hecma\\AppData\\Local\\Temp\\ipykernel_38616\\3814032013.py:13: FutureWarning: The frame.append method is deprecated and will be removed from pandas in a future version. Use pandas.concat instead.\n",
      "  RF_df = RF_df.append(\n",
      "Random Features:  33%|███▎      | 5/15 [07:31<19:36, 117.66s/it]c:\\Users\\hecma\\anaconda3\\lib\\site-packages\\sklearn\\linear_model\\_base.py:148: FutureWarning: 'normalize' was deprecated in version 1.0 and will be removed in 1.2. Please leave the normalize parameter to its default value to silence this warning. The default behavior of this estimator is to not do any normalization. If normalization is needed please use sklearn.preprocessing.StandardScaler instead.\n",
      "  warnings.warn(\n"
     ]
    },
    {
     "name": "stdout",
     "output_type": "stream",
     "text": [
      "Accuracy on the test set:  0.9333\n",
      "Accuracy on the training set:  0.9334666666666667\n",
      "number of features:  7785\n"
     ]
    },
    {
     "name": "stderr",
     "output_type": "stream",
     "text": [
      "C:\\Users\\hecma\\AppData\\Local\\Temp\\ipykernel_38616\\3814032013.py:13: FutureWarning: The frame.append method is deprecated and will be removed from pandas in a future version. Use pandas.concat instead.\n",
      "  RF_df = RF_df.append(\n",
      "Random Features:  40%|████      | 6/15 [11:51<24:54, 166.06s/it]c:\\Users\\hecma\\anaconda3\\lib\\site-packages\\sklearn\\linear_model\\_base.py:148: FutureWarning: 'normalize' was deprecated in version 1.0 and will be removed in 1.2. Please leave the normalize parameter to its default value to silence this warning. The default behavior of this estimator is to not do any normalization. If normalization is needed please use sklearn.preprocessing.StandardScaler instead.\n",
      "  warnings.warn(\n"
     ]
    },
    {
     "name": "stdout",
     "output_type": "stream",
     "text": [
      "Accuracy on the test set:  0.9335\n",
      "Accuracy on the training set:  0.9335\n",
      "number of features:  9142\n"
     ]
    },
    {
     "name": "stderr",
     "output_type": "stream",
     "text": [
      "C:\\Users\\hecma\\AppData\\Local\\Temp\\ipykernel_38616\\3814032013.py:13: FutureWarning: The frame.append method is deprecated and will be removed from pandas in a future version. Use pandas.concat instead.\n",
      "  RF_df = RF_df.append(\n",
      "Random Features:  47%|████▋     | 7/15 [17:28<29:36, 222.12s/it]c:\\Users\\hecma\\anaconda3\\lib\\site-packages\\sklearn\\linear_model\\_base.py:148: FutureWarning: 'normalize' was deprecated in version 1.0 and will be removed in 1.2. Please leave the normalize parameter to its default value to silence this warning. The default behavior of this estimator is to not do any normalization. If normalization is needed please use sklearn.preprocessing.StandardScaler instead.\n",
      "  warnings.warn(\n"
     ]
    },
    {
     "name": "stdout",
     "output_type": "stream",
     "text": [
      "Accuracy on the test set:  0.9332\n",
      "Accuracy on the training set:  0.9337833333333333\n",
      "number of features:  10500\n"
     ]
    },
    {
     "name": "stderr",
     "output_type": "stream",
     "text": [
      "C:\\Users\\hecma\\AppData\\Local\\Temp\\ipykernel_38616\\3814032013.py:13: FutureWarning: The frame.append method is deprecated and will be removed from pandas in a future version. Use pandas.concat instead.\n",
      "  RF_df = RF_df.append(\n",
      "Random Features:  53%|█████▎    | 8/15 [25:23<35:18, 302.60s/it]c:\\Users\\hecma\\anaconda3\\lib\\site-packages\\sklearn\\linear_model\\_base.py:148: FutureWarning: 'normalize' was deprecated in version 1.0 and will be removed in 1.2. Please leave the normalize parameter to its default value to silence this warning. The default behavior of this estimator is to not do any normalization. If normalization is needed please use sklearn.preprocessing.StandardScaler instead.\n",
      "  warnings.warn(\n"
     ]
    },
    {
     "name": "stdout",
     "output_type": "stream",
     "text": [
      "Accuracy on the test set:  0.9329\n",
      "Accuracy on the training set:  0.9337333333333333\n",
      "number of features:  11857\n"
     ]
    },
    {
     "name": "stderr",
     "output_type": "stream",
     "text": [
      "C:\\Users\\hecma\\AppData\\Local\\Temp\\ipykernel_38616\\3814032013.py:13: FutureWarning: The frame.append method is deprecated and will be removed from pandas in a future version. Use pandas.concat instead.\n",
      "  RF_df = RF_df.append(\n",
      "Random Features:  60%|██████    | 9/15 [35:35<39:55, 399.29s/it]c:\\Users\\hecma\\anaconda3\\lib\\site-packages\\sklearn\\linear_model\\_base.py:148: FutureWarning: 'normalize' was deprecated in version 1.0 and will be removed in 1.2. Please leave the normalize parameter to its default value to silence this warning. The default behavior of this estimator is to not do any normalization. If normalization is needed please use sklearn.preprocessing.StandardScaler instead.\n",
      "  warnings.warn(\n"
     ]
    },
    {
     "name": "stdout",
     "output_type": "stream",
     "text": [
      "Accuracy on the test set:  0.9323\n",
      "Accuracy on the training set:  0.93395\n",
      "number of features:  13214\n"
     ]
    },
    {
     "name": "stderr",
     "output_type": "stream",
     "text": [
      "C:\\Users\\hecma\\AppData\\Local\\Temp\\ipykernel_38616\\3814032013.py:13: FutureWarning: The frame.append method is deprecated and will be removed from pandas in a future version. Use pandas.concat instead.\n",
      "  RF_df = RF_df.append(\n",
      "Random Features:  67%|██████▋   | 10/15 [52:06<48:30, 582.05s/it]c:\\Users\\hecma\\anaconda3\\lib\\site-packages\\sklearn\\linear_model\\_base.py:148: FutureWarning: 'normalize' was deprecated in version 1.0 and will be removed in 1.2. Please leave the normalize parameter to its default value to silence this warning. The default behavior of this estimator is to not do any normalization. If normalization is needed please use sklearn.preprocessing.StandardScaler instead.\n",
      "  warnings.warn(\n"
     ]
    },
    {
     "name": "stdout",
     "output_type": "stream",
     "text": [
      "Accuracy on the test set:  0.9333\n",
      "Accuracy on the training set:  0.9342666666666667\n",
      "number of features:  14571\n"
     ]
    },
    {
     "name": "stderr",
     "output_type": "stream",
     "text": [
      "C:\\Users\\hecma\\AppData\\Local\\Temp\\ipykernel_38616\\3814032013.py:13: FutureWarning: The frame.append method is deprecated and will be removed from pandas in a future version. Use pandas.concat instead.\n",
      "  RF_df = RF_df.append(\n",
      "Random Features:  73%|███████▎  | 11/15 [1:11:39<50:51, 762.82s/it]c:\\Users\\hecma\\anaconda3\\lib\\site-packages\\sklearn\\linear_model\\_base.py:148: FutureWarning: 'normalize' was deprecated in version 1.0 and will be removed in 1.2. Please leave the normalize parameter to its default value to silence this warning. The default behavior of this estimator is to not do any normalization. If normalization is needed please use sklearn.preprocessing.StandardScaler instead.\n",
      "  warnings.warn(\n"
     ]
    },
    {
     "name": "stdout",
     "output_type": "stream",
     "text": [
      "Accuracy on the test set:  0.9332\n",
      "Accuracy on the training set:  0.9343833333333333\n",
      "number of features:  15928\n"
     ]
    },
    {
     "name": "stderr",
     "output_type": "stream",
     "text": [
      "C:\\Users\\hecma\\AppData\\Local\\Temp\\ipykernel_38616\\3814032013.py:13: FutureWarning: The frame.append method is deprecated and will be removed from pandas in a future version. Use pandas.concat instead.\n",
      "  RF_df = RF_df.append(\n",
      "Random Features:  80%|████████  | 12/15 [1:40:11<52:34, 1051.54s/it]c:\\Users\\hecma\\anaconda3\\lib\\site-packages\\sklearn\\linear_model\\_base.py:148: FutureWarning: 'normalize' was deprecated in version 1.0 and will be removed in 1.2. Please leave the normalize parameter to its default value to silence this warning. The default behavior of this estimator is to not do any normalization. If normalization is needed please use sklearn.preprocessing.StandardScaler instead.\n",
      "  warnings.warn(\n"
     ]
    },
    {
     "name": "stdout",
     "output_type": "stream",
     "text": [
      "Accuracy on the test set:  0.9341\n",
      "Accuracy on the training set:  0.9338333333333333\n",
      "number of features:  17285\n"
     ]
    },
    {
     "name": "stderr",
     "output_type": "stream",
     "text": [
      "C:\\Users\\hecma\\AppData\\Local\\Temp\\ipykernel_38616\\3814032013.py:13: FutureWarning: The frame.append method is deprecated and will be removed from pandas in a future version. Use pandas.concat instead.\n",
      "  RF_df = RF_df.append(\n",
      "Random Features:  87%|████████▋ | 13/15 [2:22:58<50:21, 1510.56s/it]c:\\Users\\hecma\\anaconda3\\lib\\site-packages\\sklearn\\linear_model\\_base.py:148: FutureWarning: 'normalize' was deprecated in version 1.0 and will be removed in 1.2. Please leave the normalize parameter to its default value to silence this warning. The default behavior of this estimator is to not do any normalization. If normalization is needed please use sklearn.preprocessing.StandardScaler instead.\n",
      "  warnings.warn(\n"
     ]
    },
    {
     "name": "stdout",
     "output_type": "stream",
     "text": [
      "Accuracy on the test set:  0.934\n",
      "Accuracy on the training set:  0.9336333333333333\n",
      "number of features:  18642\n"
     ]
    },
    {
     "name": "stderr",
     "output_type": "stream",
     "text": [
      "C:\\Users\\hecma\\AppData\\Local\\Temp\\ipykernel_38616\\3814032013.py:13: FutureWarning: The frame.append method is deprecated and will be removed from pandas in a future version. Use pandas.concat instead.\n",
      "  RF_df = RF_df.append(\n",
      "Random Features:  93%|█████████▎| 14/15 [3:22:16<35:29, 2129.01s/it]c:\\Users\\hecma\\anaconda3\\lib\\site-packages\\sklearn\\linear_model\\_base.py:148: FutureWarning: 'normalize' was deprecated in version 1.0 and will be removed in 1.2. Please leave the normalize parameter to its default value to silence this warning. The default behavior of this estimator is to not do any normalization. If normalization is needed please use sklearn.preprocessing.StandardScaler instead.\n",
      "  warnings.warn(\n"
     ]
    },
    {
     "name": "stdout",
     "output_type": "stream",
     "text": [
      "Accuracy on the test set:  0.9339\n",
      "Accuracy on the training set:  0.9341833333333334\n",
      "number of features:  20000\n"
     ]
    },
    {
     "name": "stderr",
     "output_type": "stream",
     "text": [
      "C:\\Users\\hecma\\AppData\\Local\\Temp\\ipykernel_38616\\3814032013.py:13: FutureWarning: The frame.append method is deprecated and will be removed from pandas in a future version. Use pandas.concat instead.\n",
      "  RF_df = RF_df.append(\n",
      "Random Features: 100%|██████████| 15/15 [4:12:37<00:00, 1010.49s/it]\n"
     ]
    }
   ],
   "source": [
    "RF_df = pd.DataFrame(columns=['Number of features', 'Test error', 'Train error', 'Norm of the weights'])\n",
    "\n",
    "for D in tqdm(Random_features, desc=\"Random Features\"):\n",
    "    X_train, y_train, X_test, y_test = to_random_features(\n",
    "    training_dataset,\n",
    "    test_dataset,\n",
    "    int(D))\n",
    "    \n",
    "    number_of_features, zero_one_train_loss, zero_one_test_loss, mse_train_loss, mse_test_loss, norm = train_model(X_test, X_train, y_test, y_train)\n",
    "    \n",
    "    \n",
    "    RF_df = RF_df.append(\n",
    "        {'Number of features': number_of_features,\n",
    "         'Zero one train Test error': zero_one_test_loss,\n",
    "         'Zero one Train error': zero_one_train_loss,\n",
    "         'Square train Test error': mse_test_loss,\n",
    "         'Square Train error': mse_train_loss,\n",
    "         'Norm of the weights': norm},\n",
    "        ignore_index=True)\n",
    "    # train_loss.append(train_error)\n",
    "    # test_loss.append(test_error)\n",
    "    \n",
    "RF_df.to_csv('Random_features.csv')"
   ]
  },
  {
   "cell_type": "code",
   "execution_count": 18,
   "metadata": {},
   "outputs": [
    {
     "data": {
      "image/png": "[encoded data removed]",
      "text/plain": [
       "<Figure size 1080x720 with 6 Axes>"
      ]
     },
     "metadata": {
      "needs_background": "light"
     },
     "output_type": "display_data"
    }
   ],
   "source": [
    "import pandas as pd\n",
    "import matplotlib.pyplot as plt\n",
    "\n",
    "RF_df = pd.read_csv('Random_features.csv')\n",
    "norm = RF_df['Norm of the weights']\n",
    "\n",
    "\n",
    "figure, axs = plt.subplots(3, 2, figsize=(15, 10))\n",
    "plt.subplot(3, 2, 1).set_title(\"Square loss\")\n",
    "plt.ylabel(\"Error\")\n",
    "axs[0,0].plot(RF_df['Number of features'], RF_df['Square train Test error'], label=\"Test error\")\n",
    "axs[1,0].plot(RF_df['Number of features'], RF_df['Square Train error'], label=\"Train error\")\n",
    "axs[2,0].plot(RF_df['Number of features'], RF_df['Norm of the weights'], label=\"Norm of the weights\")\n",
    "\n",
    "plt.subplot(3, 2, 2).set_title(\"Zero one loss\")\n",
    "plt.ylabel(\"Error\")\n",
    "axs[0,1].plot(RF_df['Number of features'], RF_df['Zero one train Test error'], label=\"Test error\")\n",
    "axs[1,1].plot(RF_df['Number of features'], RF_df['Zero one Train error'], label=\"Train error\")\n",
    "axs[2,1].plot(RF_df['Number of features'], RF_df['Norm of the weights'], label=\"Norm of the weights\")\n",
    "plt.legend()\n",
    "plt.yscale(\"log\")\n",
    "plt.xlabel(\"Number of features\")\n",
    "plt.legend()\n",
    "plt.show()\n"
   ]
  },
  {
   "cell_type": "code",
   "execution_count": null,
   "metadata": {},
   "outputs": [
    {
     "name": "stderr",
     "output_type": "stream",
     "text": [
      "Random Features:   0%|          | 0/4 [00:00<?, ?it/s]C:\\Users\\hecma\\AppData\\Local\\Temp\\ipykernel_18576\\1457717485.py:5: RuntimeWarning: overflow encountered in exp\n",
      "  return 1 / (1 + np.exp(-x))\n",
      "Random Features:   0%|          | 0/4 [15:38<?, ?it/s]\n"
     ]
    },
    {
     "ename": "KeyboardInterrupt",
     "evalue": "",
     "output_type": "error",
     "traceback": [
      "\u001b[1;31m---------------------------------------------------------------------------\u001b[0m",
      "\u001b[1;31mKeyboardInterrupt\u001b[0m                         Traceback (most recent call last)",
      "\u001b[1;32mc:\\Users\\hecma\\OneDrive - epfl.ch\\Github repos\\FoIL_reproducibility_challenge\\Experiments.ipynb Cell 17\u001b[0m in \u001b[0;36m<cell line: 1>\u001b[1;34m()\u001b[0m\n\u001b[0;32m      <a href='vscode-notebook-cell:/c%3A/Users/hecma/OneDrive%20-%20epfl.ch/Github%20repos/FoIL_reproducibility_challenge/Experiments.ipynb#X30sZmlsZQ%3D%3D?line=0'>1</a>\u001b[0m \u001b[39mfor\u001b[39;00m D \u001b[39min\u001b[39;00m tqdm([\u001b[39m30000\u001b[39m, \u001b[39m40000\u001b[39m, \u001b[39m50000\u001b[39m, \u001b[39m60000\u001b[39m], desc\u001b[39m=\u001b[39m\u001b[39m\"\u001b[39m\u001b[39mRandom Features\u001b[39m\u001b[39m\"\u001b[39m):\n\u001b[0;32m      <a href='vscode-notebook-cell:/c%3A/Users/hecma/OneDrive%20-%20epfl.ch/Github%20repos/FoIL_reproducibility_challenge/Experiments.ipynb#X30sZmlsZQ%3D%3D?line=1'>2</a>\u001b[0m     X_train, y_train, X_test, y_test \u001b[39m=\u001b[39m to_random_features(\n\u001b[0;32m      <a href='vscode-notebook-cell:/c%3A/Users/hecma/OneDrive%20-%20epfl.ch/Github%20repos/FoIL_reproducibility_challenge/Experiments.ipynb#X30sZmlsZQ%3D%3D?line=2'>3</a>\u001b[0m     training_dataset,\n\u001b[0;32m      <a href='vscode-notebook-cell:/c%3A/Users/hecma/OneDrive%20-%20epfl.ch/Github%20repos/FoIL_reproducibility_challenge/Experiments.ipynb#X30sZmlsZQ%3D%3D?line=3'>4</a>\u001b[0m     test_dataset,\n\u001b[0;32m      <a href='vscode-notebook-cell:/c%3A/Users/hecma/OneDrive%20-%20epfl.ch/Github%20repos/FoIL_reproducibility_challenge/Experiments.ipynb#X30sZmlsZQ%3D%3D?line=4'>5</a>\u001b[0m     \u001b[39mint\u001b[39m(D))\n\u001b[1;32m----> <a href='vscode-notebook-cell:/c%3A/Users/hecma/OneDrive%20-%20epfl.ch/Github%20repos/FoIL_reproducibility_challenge/Experiments.ipynb#X30sZmlsZQ%3D%3D?line=5'>6</a>\u001b[0m     norm, number_of_features, test_error, train_error \u001b[39m=\u001b[39m train_model(X_test, X_train, y_test, y_train)\n\u001b[0;32m      <a href='vscode-notebook-cell:/c%3A/Users/hecma/OneDrive%20-%20epfl.ch/Github%20repos/FoIL_reproducibility_challenge/Experiments.ipynb#X30sZmlsZQ%3D%3D?line=6'>7</a>\u001b[0m     RF_df \u001b[39m=\u001b[39m RF_df\u001b[39m.\u001b[39mappend(\n\u001b[0;32m      <a href='vscode-notebook-cell:/c%3A/Users/hecma/OneDrive%20-%20epfl.ch/Github%20repos/FoIL_reproducibility_challenge/Experiments.ipynb#X30sZmlsZQ%3D%3D?line=7'>8</a>\u001b[0m         {\u001b[39m'\u001b[39m\u001b[39mNumber of features\u001b[39m\u001b[39m'\u001b[39m: number_of_features,\n\u001b[0;32m      <a href='vscode-notebook-cell:/c%3A/Users/hecma/OneDrive%20-%20epfl.ch/Github%20repos/FoIL_reproducibility_challenge/Experiments.ipynb#X30sZmlsZQ%3D%3D?line=8'>9</a>\u001b[0m          \u001b[39m'\u001b[39m\u001b[39mTest error\u001b[39m\u001b[39m'\u001b[39m: test_error,\n\u001b[0;32m     <a href='vscode-notebook-cell:/c%3A/Users/hecma/OneDrive%20-%20epfl.ch/Github%20repos/FoIL_reproducibility_challenge/Experiments.ipynb#X30sZmlsZQ%3D%3D?line=9'>10</a>\u001b[0m          \u001b[39m'\u001b[39m\u001b[39mTrain error\u001b[39m\u001b[39m'\u001b[39m: train_error,\n\u001b[0;32m     <a href='vscode-notebook-cell:/c%3A/Users/hecma/OneDrive%20-%20epfl.ch/Github%20repos/FoIL_reproducibility_challenge/Experiments.ipynb#X30sZmlsZQ%3D%3D?line=10'>11</a>\u001b[0m          \u001b[39m'\u001b[39m\u001b[39mNorm of the weights\u001b[39m\u001b[39m'\u001b[39m: norm},\n\u001b[0;32m     <a href='vscode-notebook-cell:/c%3A/Users/hecma/OneDrive%20-%20epfl.ch/Github%20repos/FoIL_reproducibility_challenge/Experiments.ipynb#X30sZmlsZQ%3D%3D?line=11'>12</a>\u001b[0m         ignore_index\u001b[39m=\u001b[39m\u001b[39mTrue\u001b[39;00m)\n\u001b[0;32m     <a href='vscode-notebook-cell:/c%3A/Users/hecma/OneDrive%20-%20epfl.ch/Github%20repos/FoIL_reproducibility_challenge/Experiments.ipynb#X30sZmlsZQ%3D%3D?line=12'>13</a>\u001b[0m     train_loss\u001b[39m.\u001b[39mappend(train_error)\n",
      "\u001b[1;32mc:\\Users\\hecma\\OneDrive - epfl.ch\\Github repos\\FoIL_reproducibility_challenge\\Experiments.ipynb Cell 17\u001b[0m in \u001b[0;36mtrain_model\u001b[1;34m(X_test, X_train, y_test, y_train)\u001b[0m\n\u001b[0;32m      <a href='vscode-notebook-cell:/c%3A/Users/hecma/OneDrive%20-%20epfl.ch/Github%20repos/FoIL_reproducibility_challenge/Experiments.ipynb#X30sZmlsZQ%3D%3D?line=2'>3</a>\u001b[0m \u001b[39mdef\u001b[39;00m \u001b[39mtrain_model\u001b[39m(X_test, X_train, y_test, y_train):\n\u001b[0;32m      <a href='vscode-notebook-cell:/c%3A/Users/hecma/OneDrive%20-%20epfl.ch/Github%20repos/FoIL_reproducibility_challenge/Experiments.ipynb#X30sZmlsZQ%3D%3D?line=3'>4</a>\u001b[0m     clf \u001b[39m=\u001b[39m LogisticRegression(random_state\u001b[39m=\u001b[39m\u001b[39m0\u001b[39m, max_iter\u001b[39m=\u001b[39m\u001b[39m1000\u001b[39m, multi_class\u001b[39m=\u001b[39m\u001b[39m'\u001b[39m\u001b[39mmultinomial\u001b[39m\u001b[39m'\u001b[39m)\n\u001b[1;32m----> <a href='vscode-notebook-cell:/c%3A/Users/hecma/OneDrive%20-%20epfl.ch/Github%20repos/FoIL_reproducibility_challenge/Experiments.ipynb#X30sZmlsZQ%3D%3D?line=4'>5</a>\u001b[0m     clf\u001b[39m.\u001b[39;49mfit(X_train, y_train)\n\u001b[0;32m      <a href='vscode-notebook-cell:/c%3A/Users/hecma/OneDrive%20-%20epfl.ch/Github%20repos/FoIL_reproducibility_challenge/Experiments.ipynb#X30sZmlsZQ%3D%3D?line=6'>7</a>\u001b[0m     test_error \u001b[39m=\u001b[39m \u001b[39m1\u001b[39m \u001b[39m-\u001b[39m clf\u001b[39m.\u001b[39mscore(X_test, y_test)\n\u001b[0;32m      <a href='vscode-notebook-cell:/c%3A/Users/hecma/OneDrive%20-%20epfl.ch/Github%20repos/FoIL_reproducibility_challenge/Experiments.ipynb#X30sZmlsZQ%3D%3D?line=7'>8</a>\u001b[0m     train_error \u001b[39m=\u001b[39m \u001b[39m1\u001b[39m \u001b[39m-\u001b[39m clf\u001b[39m.\u001b[39mscore(X_train, y_train)\n",
      "File \u001b[1;32mc:\\Users\\hecma\\anaconda3\\lib\\site-packages\\sklearn\\linear_model\\_logistic.py:1589\u001b[0m, in \u001b[0;36mLogisticRegression.fit\u001b[1;34m(self, X, y, sample_weight)\u001b[0m\n\u001b[0;32m   1587\u001b[0m \u001b[39melse\u001b[39;00m:\n\u001b[0;32m   1588\u001b[0m     prefer \u001b[39m=\u001b[39m \u001b[39m\"\u001b[39m\u001b[39mprocesses\u001b[39m\u001b[39m\"\u001b[39m\n\u001b[1;32m-> 1589\u001b[0m fold_coefs_ \u001b[39m=\u001b[39m Parallel(\n\u001b[0;32m   1590\u001b[0m     n_jobs\u001b[39m=\u001b[39;49m\u001b[39mself\u001b[39;49m\u001b[39m.\u001b[39;49mn_jobs,\n\u001b[0;32m   1591\u001b[0m     verbose\u001b[39m=\u001b[39;49m\u001b[39mself\u001b[39;49m\u001b[39m.\u001b[39;49mverbose,\n\u001b[0;32m   1592\u001b[0m     \u001b[39m*\u001b[39;49m\u001b[39m*\u001b[39;49m_joblib_parallel_args(prefer\u001b[39m=\u001b[39;49mprefer),\n\u001b[0;32m   1593\u001b[0m )(\n\u001b[0;32m   1594\u001b[0m     path_func(\n\u001b[0;32m   1595\u001b[0m         X,\n\u001b[0;32m   1596\u001b[0m         y,\n\u001b[0;32m   1597\u001b[0m         pos_class\u001b[39m=\u001b[39;49mclass_,\n\u001b[0;32m   1598\u001b[0m         Cs\u001b[39m=\u001b[39;49m[C_],\n\u001b[0;32m   1599\u001b[0m         l1_ratio\u001b[39m=\u001b[39;49m\u001b[39mself\u001b[39;49m\u001b[39m.\u001b[39;49ml1_ratio,\n\u001b[0;32m   1600\u001b[0m         fit_intercept\u001b[39m=\u001b[39;49m\u001b[39mself\u001b[39;49m\u001b[39m.\u001b[39;49mfit_intercept,\n\u001b[0;32m   1601\u001b[0m         tol\u001b[39m=\u001b[39;49m\u001b[39mself\u001b[39;49m\u001b[39m.\u001b[39;49mtol,\n\u001b[0;32m   1602\u001b[0m         verbose\u001b[39m=\u001b[39;49m\u001b[39mself\u001b[39;49m\u001b[39m.\u001b[39;49mverbose,\n\u001b[0;32m   1603\u001b[0m         solver\u001b[39m=\u001b[39;49msolver,\n\u001b[0;32m   1604\u001b[0m         multi_class\u001b[39m=\u001b[39;49mmulti_class,\n\u001b[0;32m   1605\u001b[0m         max_iter\u001b[39m=\u001b[39;49m\u001b[39mself\u001b[39;49m\u001b[39m.\u001b[39;49mmax_iter,\n\u001b[0;32m   1606\u001b[0m         class_weight\u001b[39m=\u001b[39;49m\u001b[39mself\u001b[39;49m\u001b[39m.\u001b[39;49mclass_weight,\n\u001b[0;32m   1607\u001b[0m         check_input\u001b[39m=\u001b[39;49m\u001b[39mFalse\u001b[39;49;00m,\n\u001b[0;32m   1608\u001b[0m         random_state\u001b[39m=\u001b[39;49m\u001b[39mself\u001b[39;49m\u001b[39m.\u001b[39;49mrandom_state,\n\u001b[0;32m   1609\u001b[0m         coef\u001b[39m=\u001b[39;49mwarm_start_coef_,\n\u001b[0;32m   1610\u001b[0m         penalty\u001b[39m=\u001b[39;49mpenalty,\n\u001b[0;32m   1611\u001b[0m         max_squared_sum\u001b[39m=\u001b[39;49mmax_squared_sum,\n\u001b[0;32m   1612\u001b[0m         sample_weight\u001b[39m=\u001b[39;49msample_weight,\n\u001b[0;32m   1613\u001b[0m     )\n\u001b[0;32m   1614\u001b[0m     \u001b[39mfor\u001b[39;49;00m class_, warm_start_coef_ \u001b[39min\u001b[39;49;00m \u001b[39mzip\u001b[39;49m(classes_, warm_start_coef)\n\u001b[0;32m   1615\u001b[0m )\n\u001b[0;32m   1617\u001b[0m fold_coefs_, _, n_iter_ \u001b[39m=\u001b[39m \u001b[39mzip\u001b[39m(\u001b[39m*\u001b[39mfold_coefs_)\n\u001b[0;32m   1618\u001b[0m \u001b[39mself\u001b[39m\u001b[39m.\u001b[39mn_iter_ \u001b[39m=\u001b[39m np\u001b[39m.\u001b[39masarray(n_iter_, dtype\u001b[39m=\u001b[39mnp\u001b[39m.\u001b[39mint32)[:, \u001b[39m0\u001b[39m]\n",
      "File \u001b[1;32mc:\\Users\\hecma\\anaconda3\\lib\\site-packages\\joblib\\parallel.py:1043\u001b[0m, in \u001b[0;36mParallel.__call__\u001b[1;34m(self, iterable)\u001b[0m\n\u001b[0;32m   1034\u001b[0m \u001b[39mtry\u001b[39;00m:\n\u001b[0;32m   1035\u001b[0m     \u001b[39m# Only set self._iterating to True if at least a batch\u001b[39;00m\n\u001b[0;32m   1036\u001b[0m     \u001b[39m# was dispatched. In particular this covers the edge\u001b[39;00m\n\u001b[1;32m   (...)\u001b[0m\n\u001b[0;32m   1040\u001b[0m     \u001b[39m# was very quick and its callback already dispatched all the\u001b[39;00m\n\u001b[0;32m   1041\u001b[0m     \u001b[39m# remaining jobs.\u001b[39;00m\n\u001b[0;32m   1042\u001b[0m     \u001b[39mself\u001b[39m\u001b[39m.\u001b[39m_iterating \u001b[39m=\u001b[39m \u001b[39mFalse\u001b[39;00m\n\u001b[1;32m-> 1043\u001b[0m     \u001b[39mif\u001b[39;00m \u001b[39mself\u001b[39;49m\u001b[39m.\u001b[39;49mdispatch_one_batch(iterator):\n\u001b[0;32m   1044\u001b[0m         \u001b[39mself\u001b[39m\u001b[39m.\u001b[39m_iterating \u001b[39m=\u001b[39m \u001b[39mself\u001b[39m\u001b[39m.\u001b[39m_original_iterator \u001b[39mis\u001b[39;00m \u001b[39mnot\u001b[39;00m \u001b[39mNone\u001b[39;00m\n\u001b[0;32m   1046\u001b[0m     \u001b[39mwhile\u001b[39;00m \u001b[39mself\u001b[39m\u001b[39m.\u001b[39mdispatch_one_batch(iterator):\n",
      "File \u001b[1;32mc:\\Users\\hecma\\anaconda3\\lib\\site-packages\\joblib\\parallel.py:861\u001b[0m, in \u001b[0;36mParallel.dispatch_one_batch\u001b[1;34m(self, iterator)\u001b[0m\n\u001b[0;32m    859\u001b[0m     \u001b[39mreturn\u001b[39;00m \u001b[39mFalse\u001b[39;00m\n\u001b[0;32m    860\u001b[0m \u001b[39melse\u001b[39;00m:\n\u001b[1;32m--> 861\u001b[0m     \u001b[39mself\u001b[39;49m\u001b[39m.\u001b[39;49m_dispatch(tasks)\n\u001b[0;32m    862\u001b[0m     \u001b[39mreturn\u001b[39;00m \u001b[39mTrue\u001b[39;00m\n",
      "File \u001b[1;32mc:\\Users\\hecma\\anaconda3\\lib\\site-packages\\joblib\\parallel.py:779\u001b[0m, in \u001b[0;36mParallel._dispatch\u001b[1;34m(self, batch)\u001b[0m\n\u001b[0;32m    777\u001b[0m \u001b[39mwith\u001b[39;00m \u001b[39mself\u001b[39m\u001b[39m.\u001b[39m_lock:\n\u001b[0;32m    778\u001b[0m     job_idx \u001b[39m=\u001b[39m \u001b[39mlen\u001b[39m(\u001b[39mself\u001b[39m\u001b[39m.\u001b[39m_jobs)\n\u001b[1;32m--> 779\u001b[0m     job \u001b[39m=\u001b[39m \u001b[39mself\u001b[39;49m\u001b[39m.\u001b[39;49m_backend\u001b[39m.\u001b[39;49mapply_async(batch, callback\u001b[39m=\u001b[39;49mcb)\n\u001b[0;32m    780\u001b[0m     \u001b[39m# A job can complete so quickly than its callback is\u001b[39;00m\n\u001b[0;32m    781\u001b[0m     \u001b[39m# called before we get here, causing self._jobs to\u001b[39;00m\n\u001b[0;32m    782\u001b[0m     \u001b[39m# grow. To ensure correct results ordering, .insert is\u001b[39;00m\n\u001b[0;32m    783\u001b[0m     \u001b[39m# used (rather than .append) in the following line\u001b[39;00m\n\u001b[0;32m    784\u001b[0m     \u001b[39mself\u001b[39m\u001b[39m.\u001b[39m_jobs\u001b[39m.\u001b[39minsert(job_idx, job)\n",
      "File \u001b[1;32mc:\\Users\\hecma\\anaconda3\\lib\\site-packages\\joblib\\_parallel_backends.py:208\u001b[0m, in \u001b[0;36mSequentialBackend.apply_async\u001b[1;34m(self, func, callback)\u001b[0m\n\u001b[0;32m    206\u001b[0m \u001b[39mdef\u001b[39;00m \u001b[39mapply_async\u001b[39m(\u001b[39mself\u001b[39m, func, callback\u001b[39m=\u001b[39m\u001b[39mNone\u001b[39;00m):\n\u001b[0;32m    207\u001b[0m     \u001b[39m\"\"\"Schedule a func to be run\"\"\"\u001b[39;00m\n\u001b[1;32m--> 208\u001b[0m     result \u001b[39m=\u001b[39m ImmediateResult(func)\n\u001b[0;32m    209\u001b[0m     \u001b[39mif\u001b[39;00m callback:\n\u001b[0;32m    210\u001b[0m         callback(result)\n",
      "File \u001b[1;32mc:\\Users\\hecma\\anaconda3\\lib\\site-packages\\joblib\\_parallel_backends.py:572\u001b[0m, in \u001b[0;36mImmediateResult.__init__\u001b[1;34m(self, batch)\u001b[0m\n\u001b[0;32m    569\u001b[0m \u001b[39mdef\u001b[39;00m \u001b[39m__init__\u001b[39m(\u001b[39mself\u001b[39m, batch):\n\u001b[0;32m    570\u001b[0m     \u001b[39m# Don't delay the application, to avoid keeping the input\u001b[39;00m\n\u001b[0;32m    571\u001b[0m     \u001b[39m# arguments in memory\u001b[39;00m\n\u001b[1;32m--> 572\u001b[0m     \u001b[39mself\u001b[39m\u001b[39m.\u001b[39mresults \u001b[39m=\u001b[39m batch()\n",
      "File \u001b[1;32mc:\\Users\\hecma\\anaconda3\\lib\\site-packages\\joblib\\parallel.py:262\u001b[0m, in \u001b[0;36mBatchedCalls.__call__\u001b[1;34m(self)\u001b[0m\n\u001b[0;32m    258\u001b[0m \u001b[39mdef\u001b[39;00m \u001b[39m__call__\u001b[39m(\u001b[39mself\u001b[39m):\n\u001b[0;32m    259\u001b[0m     \u001b[39m# Set the default nested backend to self._backend but do not set the\u001b[39;00m\n\u001b[0;32m    260\u001b[0m     \u001b[39m# change the default number of processes to -1\u001b[39;00m\n\u001b[0;32m    261\u001b[0m     \u001b[39mwith\u001b[39;00m parallel_backend(\u001b[39mself\u001b[39m\u001b[39m.\u001b[39m_backend, n_jobs\u001b[39m=\u001b[39m\u001b[39mself\u001b[39m\u001b[39m.\u001b[39m_n_jobs):\n\u001b[1;32m--> 262\u001b[0m         \u001b[39mreturn\u001b[39;00m [func(\u001b[39m*\u001b[39margs, \u001b[39m*\u001b[39m\u001b[39m*\u001b[39mkwargs)\n\u001b[0;32m    263\u001b[0m                 \u001b[39mfor\u001b[39;00m func, args, kwargs \u001b[39min\u001b[39;00m \u001b[39mself\u001b[39m\u001b[39m.\u001b[39mitems]\n",
      "File \u001b[1;32mc:\\Users\\hecma\\anaconda3\\lib\\site-packages\\joblib\\parallel.py:262\u001b[0m, in \u001b[0;36m<listcomp>\u001b[1;34m(.0)\u001b[0m\n\u001b[0;32m    258\u001b[0m \u001b[39mdef\u001b[39;00m \u001b[39m__call__\u001b[39m(\u001b[39mself\u001b[39m):\n\u001b[0;32m    259\u001b[0m     \u001b[39m# Set the default nested backend to self._backend but do not set the\u001b[39;00m\n\u001b[0;32m    260\u001b[0m     \u001b[39m# change the default number of processes to -1\u001b[39;00m\n\u001b[0;32m    261\u001b[0m     \u001b[39mwith\u001b[39;00m parallel_backend(\u001b[39mself\u001b[39m\u001b[39m.\u001b[39m_backend, n_jobs\u001b[39m=\u001b[39m\u001b[39mself\u001b[39m\u001b[39m.\u001b[39m_n_jobs):\n\u001b[1;32m--> 262\u001b[0m         \u001b[39mreturn\u001b[39;00m [func(\u001b[39m*\u001b[39margs, \u001b[39m*\u001b[39m\u001b[39m*\u001b[39mkwargs)\n\u001b[0;32m    263\u001b[0m                 \u001b[39mfor\u001b[39;00m func, args, kwargs \u001b[39min\u001b[39;00m \u001b[39mself\u001b[39m\u001b[39m.\u001b[39mitems]\n",
      "File \u001b[1;32mc:\\Users\\hecma\\anaconda3\\lib\\site-packages\\sklearn\\utils\\fixes.py:216\u001b[0m, in \u001b[0;36m_FuncWrapper.__call__\u001b[1;34m(self, *args, **kwargs)\u001b[0m\n\u001b[0;32m    214\u001b[0m \u001b[39mdef\u001b[39;00m \u001b[39m__call__\u001b[39m(\u001b[39mself\u001b[39m, \u001b[39m*\u001b[39margs, \u001b[39m*\u001b[39m\u001b[39m*\u001b[39mkwargs):\n\u001b[0;32m    215\u001b[0m     \u001b[39mwith\u001b[39;00m config_context(\u001b[39m*\u001b[39m\u001b[39m*\u001b[39m\u001b[39mself\u001b[39m\u001b[39m.\u001b[39mconfig):\n\u001b[1;32m--> 216\u001b[0m         \u001b[39mreturn\u001b[39;00m \u001b[39mself\u001b[39m\u001b[39m.\u001b[39mfunction(\u001b[39m*\u001b[39margs, \u001b[39m*\u001b[39m\u001b[39m*\u001b[39mkwargs)\n",
      "File \u001b[1;32mc:\\Users\\hecma\\anaconda3\\lib\\site-packages\\sklearn\\linear_model\\_logistic.py:806\u001b[0m, in \u001b[0;36m_logistic_regression_path\u001b[1;34m(X, y, pos_class, Cs, fit_intercept, max_iter, tol, verbose, solver, coef, class_weight, dual, penalty, intercept_scaling, multi_class, random_state, check_input, max_squared_sum, sample_weight, l1_ratio)\u001b[0m\n\u001b[0;32m    802\u001b[0m \u001b[39mif\u001b[39;00m solver \u001b[39m==\u001b[39m \u001b[39m\"\u001b[39m\u001b[39mlbfgs\u001b[39m\u001b[39m\"\u001b[39m:\n\u001b[0;32m    803\u001b[0m     iprint \u001b[39m=\u001b[39m [\u001b[39m-\u001b[39m\u001b[39m1\u001b[39m, \u001b[39m50\u001b[39m, \u001b[39m1\u001b[39m, \u001b[39m100\u001b[39m, \u001b[39m101\u001b[39m][\n\u001b[0;32m    804\u001b[0m         np\u001b[39m.\u001b[39msearchsorted(np\u001b[39m.\u001b[39marray([\u001b[39m0\u001b[39m, \u001b[39m1\u001b[39m, \u001b[39m2\u001b[39m, \u001b[39m3\u001b[39m]), verbose)\n\u001b[0;32m    805\u001b[0m     ]\n\u001b[1;32m--> 806\u001b[0m     opt_res \u001b[39m=\u001b[39m optimize\u001b[39m.\u001b[39;49mminimize(\n\u001b[0;32m    807\u001b[0m         func,\n\u001b[0;32m    808\u001b[0m         w0,\n\u001b[0;32m    809\u001b[0m         method\u001b[39m=\u001b[39;49m\u001b[39m\"\u001b[39;49m\u001b[39mL-BFGS-B\u001b[39;49m\u001b[39m\"\u001b[39;49m,\n\u001b[0;32m    810\u001b[0m         jac\u001b[39m=\u001b[39;49m\u001b[39mTrue\u001b[39;49;00m,\n\u001b[0;32m    811\u001b[0m         args\u001b[39m=\u001b[39;49m(X, target, \u001b[39m1.0\u001b[39;49m \u001b[39m/\u001b[39;49m C, sample_weight),\n\u001b[0;32m    812\u001b[0m         options\u001b[39m=\u001b[39;49m{\u001b[39m\"\u001b[39;49m\u001b[39miprint\u001b[39;49m\u001b[39m\"\u001b[39;49m: iprint, \u001b[39m\"\u001b[39;49m\u001b[39mgtol\u001b[39;49m\u001b[39m\"\u001b[39;49m: tol, \u001b[39m\"\u001b[39;49m\u001b[39mmaxiter\u001b[39;49m\u001b[39m\"\u001b[39;49m: max_iter},\n\u001b[0;32m    813\u001b[0m     )\n\u001b[0;32m    814\u001b[0m     n_iter_i \u001b[39m=\u001b[39m _check_optimize_result(\n\u001b[0;32m    815\u001b[0m         solver,\n\u001b[0;32m    816\u001b[0m         opt_res,\n\u001b[0;32m    817\u001b[0m         max_iter,\n\u001b[0;32m    818\u001b[0m         extra_warning_msg\u001b[39m=\u001b[39m_LOGISTIC_SOLVER_CONVERGENCE_MSG,\n\u001b[0;32m    819\u001b[0m     )\n\u001b[0;32m    820\u001b[0m     w0, loss \u001b[39m=\u001b[39m opt_res\u001b[39m.\u001b[39mx, opt_res\u001b[39m.\u001b[39mfun\n",
      "File \u001b[1;32mc:\\Users\\hecma\\anaconda3\\lib\\site-packages\\scipy\\optimize\\_minimize.py:623\u001b[0m, in \u001b[0;36mminimize\u001b[1;34m(fun, x0, args, method, jac, hess, hessp, bounds, constraints, tol, callback, options)\u001b[0m\n\u001b[0;32m    620\u001b[0m     \u001b[39mreturn\u001b[39;00m _minimize_newtoncg(fun, x0, args, jac, hess, hessp, callback,\n\u001b[0;32m    621\u001b[0m                               \u001b[39m*\u001b[39m\u001b[39m*\u001b[39moptions)\n\u001b[0;32m    622\u001b[0m \u001b[39melif\u001b[39;00m meth \u001b[39m==\u001b[39m \u001b[39m'\u001b[39m\u001b[39ml-bfgs-b\u001b[39m\u001b[39m'\u001b[39m:\n\u001b[1;32m--> 623\u001b[0m     \u001b[39mreturn\u001b[39;00m _minimize_lbfgsb(fun, x0, args, jac, bounds,\n\u001b[0;32m    624\u001b[0m                             callback\u001b[39m=\u001b[39mcallback, \u001b[39m*\u001b[39m\u001b[39m*\u001b[39moptions)\n\u001b[0;32m    625\u001b[0m \u001b[39melif\u001b[39;00m meth \u001b[39m==\u001b[39m \u001b[39m'\u001b[39m\u001b[39mtnc\u001b[39m\u001b[39m'\u001b[39m:\n\u001b[0;32m    626\u001b[0m     \u001b[39mreturn\u001b[39;00m _minimize_tnc(fun, x0, args, jac, bounds, callback\u001b[39m=\u001b[39mcallback,\n\u001b[0;32m    627\u001b[0m                          \u001b[39m*\u001b[39m\u001b[39m*\u001b[39moptions)\n",
      "File \u001b[1;32mc:\\Users\\hecma\\anaconda3\\lib\\site-packages\\scipy\\optimize\\lbfgsb.py:360\u001b[0m, in \u001b[0;36m_minimize_lbfgsb\u001b[1;34m(fun, x0, args, jac, bounds, disp, maxcor, ftol, gtol, eps, maxfun, maxiter, iprint, callback, maxls, finite_diff_rel_step, **unknown_options)\u001b[0m\n\u001b[0;32m    354\u001b[0m task_str \u001b[39m=\u001b[39m task\u001b[39m.\u001b[39mtobytes()\n\u001b[0;32m    355\u001b[0m \u001b[39mif\u001b[39;00m task_str\u001b[39m.\u001b[39mstartswith(\u001b[39mb\u001b[39m\u001b[39m'\u001b[39m\u001b[39mFG\u001b[39m\u001b[39m'\u001b[39m):\n\u001b[0;32m    356\u001b[0m     \u001b[39m# The minimization routine wants f and g at the current x.\u001b[39;00m\n\u001b[0;32m    357\u001b[0m     \u001b[39m# Note that interruptions due to maxfun are postponed\u001b[39;00m\n\u001b[0;32m    358\u001b[0m     \u001b[39m# until the completion of the current minimization iteration.\u001b[39;00m\n\u001b[0;32m    359\u001b[0m     \u001b[39m# Overwrite f and g:\u001b[39;00m\n\u001b[1;32m--> 360\u001b[0m     f, g \u001b[39m=\u001b[39m func_and_grad(x)\n\u001b[0;32m    361\u001b[0m \u001b[39melif\u001b[39;00m task_str\u001b[39m.\u001b[39mstartswith(\u001b[39mb\u001b[39m\u001b[39m'\u001b[39m\u001b[39mNEW_X\u001b[39m\u001b[39m'\u001b[39m):\n\u001b[0;32m    362\u001b[0m     \u001b[39m# new iteration\u001b[39;00m\n\u001b[0;32m    363\u001b[0m     n_iterations \u001b[39m+\u001b[39m\u001b[39m=\u001b[39m \u001b[39m1\u001b[39m\n",
      "File \u001b[1;32mc:\\Users\\hecma\\anaconda3\\lib\\site-packages\\scipy\\optimize\\_differentiable_functions.py:267\u001b[0m, in \u001b[0;36mScalarFunction.fun_and_grad\u001b[1;34m(self, x)\u001b[0m\n\u001b[0;32m    265\u001b[0m \u001b[39mif\u001b[39;00m \u001b[39mnot\u001b[39;00m np\u001b[39m.\u001b[39marray_equal(x, \u001b[39mself\u001b[39m\u001b[39m.\u001b[39mx):\n\u001b[0;32m    266\u001b[0m     \u001b[39mself\u001b[39m\u001b[39m.\u001b[39m_update_x_impl(x)\n\u001b[1;32m--> 267\u001b[0m \u001b[39mself\u001b[39;49m\u001b[39m.\u001b[39;49m_update_fun()\n\u001b[0;32m    268\u001b[0m \u001b[39mself\u001b[39m\u001b[39m.\u001b[39m_update_grad()\n\u001b[0;32m    269\u001b[0m \u001b[39mreturn\u001b[39;00m \u001b[39mself\u001b[39m\u001b[39m.\u001b[39mf, \u001b[39mself\u001b[39m\u001b[39m.\u001b[39mg\n",
      "File \u001b[1;32mc:\\Users\\hecma\\anaconda3\\lib\\site-packages\\scipy\\optimize\\_differentiable_functions.py:233\u001b[0m, in \u001b[0;36mScalarFunction._update_fun\u001b[1;34m(self)\u001b[0m\n\u001b[0;32m    231\u001b[0m \u001b[39mdef\u001b[39;00m \u001b[39m_update_fun\u001b[39m(\u001b[39mself\u001b[39m):\n\u001b[0;32m    232\u001b[0m     \u001b[39mif\u001b[39;00m \u001b[39mnot\u001b[39;00m \u001b[39mself\u001b[39m\u001b[39m.\u001b[39mf_updated:\n\u001b[1;32m--> 233\u001b[0m         \u001b[39mself\u001b[39;49m\u001b[39m.\u001b[39;49m_update_fun_impl()\n\u001b[0;32m    234\u001b[0m         \u001b[39mself\u001b[39m\u001b[39m.\u001b[39mf_updated \u001b[39m=\u001b[39m \u001b[39mTrue\u001b[39;00m\n",
      "File \u001b[1;32mc:\\Users\\hecma\\anaconda3\\lib\\site-packages\\scipy\\optimize\\_differentiable_functions.py:137\u001b[0m, in \u001b[0;36mScalarFunction.__init__.<locals>.update_fun\u001b[1;34m()\u001b[0m\n\u001b[0;32m    136\u001b[0m \u001b[39mdef\u001b[39;00m \u001b[39mupdate_fun\u001b[39m():\n\u001b[1;32m--> 137\u001b[0m     \u001b[39mself\u001b[39m\u001b[39m.\u001b[39mf \u001b[39m=\u001b[39m fun_wrapped(\u001b[39mself\u001b[39;49m\u001b[39m.\u001b[39;49mx)\n",
      "File \u001b[1;32mc:\\Users\\hecma\\anaconda3\\lib\\site-packages\\scipy\\optimize\\_differentiable_functions.py:134\u001b[0m, in \u001b[0;36mScalarFunction.__init__.<locals>.fun_wrapped\u001b[1;34m(x)\u001b[0m\n\u001b[0;32m    130\u001b[0m \u001b[39mself\u001b[39m\u001b[39m.\u001b[39mnfev \u001b[39m+\u001b[39m\u001b[39m=\u001b[39m \u001b[39m1\u001b[39m\n\u001b[0;32m    131\u001b[0m \u001b[39m# Send a copy because the user may overwrite it.\u001b[39;00m\n\u001b[0;32m    132\u001b[0m \u001b[39m# Overwriting results in undefined behaviour because\u001b[39;00m\n\u001b[0;32m    133\u001b[0m \u001b[39m# fun(self.x) will change self.x, with the two no longer linked.\u001b[39;00m\n\u001b[1;32m--> 134\u001b[0m \u001b[39mreturn\u001b[39;00m fun(np\u001b[39m.\u001b[39;49mcopy(x), \u001b[39m*\u001b[39;49margs)\n",
      "File \u001b[1;32mc:\\Users\\hecma\\anaconda3\\lib\\site-packages\\scipy\\optimize\\optimize.py:74\u001b[0m, in \u001b[0;36mMemoizeJac.__call__\u001b[1;34m(self, x, *args)\u001b[0m\n\u001b[0;32m     72\u001b[0m \u001b[39mdef\u001b[39;00m \u001b[39m__call__\u001b[39m(\u001b[39mself\u001b[39m, x, \u001b[39m*\u001b[39margs):\n\u001b[0;32m     73\u001b[0m     \u001b[39m\"\"\" returns the the function value \"\"\"\u001b[39;00m\n\u001b[1;32m---> 74\u001b[0m     \u001b[39mself\u001b[39;49m\u001b[39m.\u001b[39;49m_compute_if_needed(x, \u001b[39m*\u001b[39;49margs)\n\u001b[0;32m     75\u001b[0m     \u001b[39mreturn\u001b[39;00m \u001b[39mself\u001b[39m\u001b[39m.\u001b[39m_value\n",
      "File \u001b[1;32mc:\\Users\\hecma\\anaconda3\\lib\\site-packages\\scipy\\optimize\\optimize.py:68\u001b[0m, in \u001b[0;36mMemoizeJac._compute_if_needed\u001b[1;34m(self, x, *args)\u001b[0m\n\u001b[0;32m     66\u001b[0m \u001b[39mif\u001b[39;00m \u001b[39mnot\u001b[39;00m np\u001b[39m.\u001b[39mall(x \u001b[39m==\u001b[39m \u001b[39mself\u001b[39m\u001b[39m.\u001b[39mx) \u001b[39mor\u001b[39;00m \u001b[39mself\u001b[39m\u001b[39m.\u001b[39m_value \u001b[39mis\u001b[39;00m \u001b[39mNone\u001b[39;00m \u001b[39mor\u001b[39;00m \u001b[39mself\u001b[39m\u001b[39m.\u001b[39mjac \u001b[39mis\u001b[39;00m \u001b[39mNone\u001b[39;00m:\n\u001b[0;32m     67\u001b[0m     \u001b[39mself\u001b[39m\u001b[39m.\u001b[39mx \u001b[39m=\u001b[39m np\u001b[39m.\u001b[39masarray(x)\u001b[39m.\u001b[39mcopy()\n\u001b[1;32m---> 68\u001b[0m     fg \u001b[39m=\u001b[39m \u001b[39mself\u001b[39;49m\u001b[39m.\u001b[39;49mfun(x, \u001b[39m*\u001b[39;49margs)\n\u001b[0;32m     69\u001b[0m     \u001b[39mself\u001b[39m\u001b[39m.\u001b[39mjac \u001b[39m=\u001b[39m fg[\u001b[39m1\u001b[39m]\n\u001b[0;32m     70\u001b[0m     \u001b[39mself\u001b[39m\u001b[39m.\u001b[39m_value \u001b[39m=\u001b[39m fg[\u001b[39m0\u001b[39m]\n",
      "File \u001b[1;32mc:\\Users\\hecma\\anaconda3\\lib\\site-packages\\sklearn\\linear_model\\_logistic.py:774\u001b[0m, in \u001b[0;36m_logistic_regression_path.<locals>.func\u001b[1;34m(x, *args)\u001b[0m\n\u001b[0;32m    773\u001b[0m \u001b[39mdef\u001b[39;00m \u001b[39mfunc\u001b[39m(x, \u001b[39m*\u001b[39margs):\n\u001b[1;32m--> 774\u001b[0m     \u001b[39mreturn\u001b[39;00m _multinomial_loss_grad(x, \u001b[39m*\u001b[39;49margs)[\u001b[39m0\u001b[39m:\u001b[39m2\u001b[39m]\n",
      "File \u001b[1;32mc:\\Users\\hecma\\anaconda3\\lib\\site-packages\\sklearn\\linear_model\\_logistic.py:348\u001b[0m, in \u001b[0;36m_multinomial_loss_grad\u001b[1;34m(w, X, Y, alpha, sample_weight)\u001b[0m\n\u001b[0;32m    346\u001b[0m fit_intercept \u001b[39m=\u001b[39m w\u001b[39m.\u001b[39msize \u001b[39m==\u001b[39m n_classes \u001b[39m*\u001b[39m (n_features \u001b[39m+\u001b[39m \u001b[39m1\u001b[39m)\n\u001b[0;32m    347\u001b[0m grad \u001b[39m=\u001b[39m np\u001b[39m.\u001b[39mzeros((n_classes, n_features \u001b[39m+\u001b[39m \u001b[39mbool\u001b[39m(fit_intercept)), dtype\u001b[39m=\u001b[39mX\u001b[39m.\u001b[39mdtype)\n\u001b[1;32m--> 348\u001b[0m loss, p, w \u001b[39m=\u001b[39m _multinomial_loss(w, X, Y, alpha, sample_weight)\n\u001b[0;32m    349\u001b[0m sample_weight \u001b[39m=\u001b[39m sample_weight[:, np\u001b[39m.\u001b[39mnewaxis]\n\u001b[0;32m    350\u001b[0m diff \u001b[39m=\u001b[39m sample_weight \u001b[39m*\u001b[39m (p \u001b[39m-\u001b[39m Y)\n",
      "File \u001b[1;32mc:\\Users\\hecma\\anaconda3\\lib\\site-packages\\sklearn\\linear_model\\_logistic.py:297\u001b[0m, in \u001b[0;36m_multinomial_loss\u001b[1;34m(w, X, Y, alpha, sample_weight)\u001b[0m\n\u001b[0;32m    295\u001b[0m \u001b[39melse\u001b[39;00m:\n\u001b[0;32m    296\u001b[0m     intercept \u001b[39m=\u001b[39m \u001b[39m0\u001b[39m\n\u001b[1;32m--> 297\u001b[0m p \u001b[39m=\u001b[39m safe_sparse_dot(X, w\u001b[39m.\u001b[39;49mT)\n\u001b[0;32m    298\u001b[0m p \u001b[39m+\u001b[39m\u001b[39m=\u001b[39m intercept\n\u001b[0;32m    299\u001b[0m p \u001b[39m-\u001b[39m\u001b[39m=\u001b[39m logsumexp(p, axis\u001b[39m=\u001b[39m\u001b[39m1\u001b[39m)[:, np\u001b[39m.\u001b[39mnewaxis]\n",
      "File \u001b[1;32mc:\\Users\\hecma\\anaconda3\\lib\\site-packages\\sklearn\\utils\\extmath.py:153\u001b[0m, in \u001b[0;36msafe_sparse_dot\u001b[1;34m(a, b, dense_output)\u001b[0m\n\u001b[0;32m    151\u001b[0m         ret \u001b[39m=\u001b[39m np\u001b[39m.\u001b[39mdot(a, b)\n\u001b[0;32m    152\u001b[0m \u001b[39melse\u001b[39;00m:\n\u001b[1;32m--> 153\u001b[0m     ret \u001b[39m=\u001b[39m a \u001b[39m@\u001b[39;49m b\n\u001b[0;32m    155\u001b[0m \u001b[39mif\u001b[39;00m (\n\u001b[0;32m    156\u001b[0m     sparse\u001b[39m.\u001b[39missparse(a)\n\u001b[0;32m    157\u001b[0m     \u001b[39mand\u001b[39;00m sparse\u001b[39m.\u001b[39missparse(b)\n\u001b[0;32m    158\u001b[0m     \u001b[39mand\u001b[39;00m dense_output\n\u001b[0;32m    159\u001b[0m     \u001b[39mand\u001b[39;00m \u001b[39mhasattr\u001b[39m(ret, \u001b[39m\"\u001b[39m\u001b[39mtoarray\u001b[39m\u001b[39m\"\u001b[39m)\n\u001b[0;32m    160\u001b[0m ):\n\u001b[0;32m    161\u001b[0m     \u001b[39mreturn\u001b[39;00m ret\u001b[39m.\u001b[39mtoarray()\n",
      "\u001b[1;31mKeyboardInterrupt\u001b[0m: "
     ]
    }
   ],
   "source": [
    "for D in tqdm([30000, 40000, 50000, 60000], desc=\"Random Features\"):\n",
    "    X_train, y_train, X_test, y_test = to_random_features(\n",
    "    training_dataset,\n",
    "    test_dataset,\n",
    "    int(D))\n",
    "    norm, number_of_features, test_error, train_error = train_model(X_test, X_train, y_test, y_train)\n",
    "    RF_df = RF_df.append(\n",
    "        {'Number of features': number_of_features,\n",
    "         'Test error': test_error,\n",
    "         'Train error': train_error,\n",
    "         'Norm of the weights': norm},\n",
    "        ignore_index=True)\n",
    "    train_loss.append(train_error)\n",
    "    test_loss.append(test_error)"
   ]
  },
  {
   "attachments": {},
   "cell_type": "markdown",
   "metadata": {},
   "source": [
    "### Attempt 2: Neural Network"
   ]
  },
  {
   "cell_type": "code",
   "execution_count": 277,
   "metadata": {},
   "outputs": [],
   "source": [
    "train_dataloader = DataLoader(training_dataset, batch_size=128, shuffle=True)\n",
    "test_dataloader = DataLoader(test_dataset, batch_size = 128, shuffle=True)\n",
    "\n",
    "# Subset the training set to 4000 samples\n",
    "train_subset = Subset(train_dataloader.dataset, np.arange(0, 4000))\n",
    "test_subset = Subset(test_dataloader.dataset, np.arange(0, 1000))\n",
    "\n",
    "# Create the dataloaders\n",
    "train_loader = DataLoader(train_subset, batch_size = 128, shuffle=True, num_workers=2)\n",
    "test_loader = DataLoader(test_subset, batch_size = 128, shuffle=True, num_workers=2)"
   ]
  },
  {
   "cell_type": "code",
   "execution_count": 278,
   "metadata": {},
   "outputs": [
    {
     "name": "stdout",
     "output_type": "stream",
     "text": [
      "Number of training samples:  4000\n",
      "Number of test samples:  1000\n",
      "Number of batches in the training set:  32\n",
      "Number of batches in the test set:  8\n"
     ]
    }
   ],
   "source": [
    "print(\"Number of training samples: \", len(train_subset))\n",
    "print(\"Number of test samples: \", len(test_subset))\n",
    "print(\"Number of batches in the training set: \", len(train_loader))\n",
    "print(\"Number of batches in the test set: \", len(test_loader))"
   ]
  },
  {
   "cell_type": "code",
   "execution_count": 279,
   "metadata": {},
   "outputs": [],
   "source": [
    "# define the neural network architecture that we will use for the classification task and minimize the MSE loss\n",
    "class NeuralNetworkMSE(nn.Module):\n",
    "    def __init__(self, current_count, param_counts, factor, hidden_layer_size):\n",
    "        super(NeuralNetworkMSE, self).__init__()\n",
    "        print(f'Neural Network with {hidden_layer_size} hidden units')\n",
    "         \n",
    "        d = 784\n",
    "        K = 10\n",
    "        self.input_layer = nn.Linear(28*28, hidden_layer_size)\n",
    "        self.hidden_layer = nn.Linear(hidden_layer_size, 1)\n",
    "    \n",
    "    def forward(self, x):\n",
    "        d = 784\n",
    "        x = x.view(-1, d)\n",
    "        x = F.relu(self.input_layer(x))\n",
    "        x = self.hidden_layer(x)\n",
    "        return x\n"
   ]
  },
  {
   "cell_type": "code",
   "execution_count": 280,
   "metadata": {},
   "outputs": [],
   "source": [
    "# define the neural network architecture that we will use for the classification task and minimize the cross entropy loss\n",
    "class NeuralNetworkCross(nn.Module):\n",
    "    def __init__(self, current_count, param_counts, factor, hidden_layer_size):\n",
    "        super(NeuralNetworkCross, self).__init__()\n",
    "        print(f'Neural Network with {hidden_layer_size} hidden units')\n",
    "         \n",
    "        d = 784\n",
    "        K = 10\n",
    "        self.input_layer = nn.Linear(28*28, hidden_layer_size)\n",
    "        self.hidden_layer = nn.Linear(hidden_layer_size, 10)\n",
    "    \n",
    "    def forward(self, x):\n",
    "        d = 784\n",
    "        x = x.view(-1, d)\n",
    "        x = F.relu(self.input_layer(x))\n",
    "        x = self.hidden_layer(x)\n",
    "        return x"
   ]
  },
  {
   "cell_type": "code",
   "execution_count": 281,
   "metadata": {},
   "outputs": [
    {
     "name": "stdout",
     "output_type": "stream",
     "text": [
      "cpu\n"
     ]
    }
   ],
   "source": [
    "# find out which device is available\n",
    "DEVICE = torch.device(\"cuda\" if torch.cuda.is_available() else \"cpu\")\n",
    "print(DEVICE)"
   ]
  },
  {
   "cell_type": "code",
   "execution_count": 282,
   "metadata": {},
   "outputs": [],
   "source": [
    "def train_epoch(model: nn.Module, train_dataloader: DataLoader, \n",
    "                optimizer: torch.optim.Optimizer, device: torch.device,\n",
    "                loss_type: str):\n",
    "    '''\n",
    "    Train the model for one epoch.\n",
    "    :param model: The model to train\n",
    "    :param train_dataloader: The dataloader to use for training\n",
    "    :param optimizer: The optimizer to use for training\n",
    "    :param: device: The device to use for training\n",
    "    :param: loss_type: The loss function to use for training, either \"MSE\" or \"CrossEntropy\"\n",
    "    :return: The loss for the epoch\n",
    "    '''\n",
    "\n",
    "    # train\n",
    "    model = model.to(device)\n",
    "    model.train()\n",
    "    running_loss = 0.0\n",
    "\n",
    "    for batch_idx, (data, target) in enumerate(train_dataloader,0):\n",
    "\n",
    "        # move data and target to device\n",
    "        if loss_type == \"MSE\":\n",
    "            data, target = data.to(device), target.to(torch.float32).to(device)\n",
    "        else:\n",
    "            data, target = data.to(device), target.to(device)\n",
    "\n",
    "        # zero the parameter gradients\n",
    "        optimizer.zero_grad()\n",
    "\n",
    "        # do the forward pass\n",
    "        output = model(data)\n",
    "\n",
    "        # compute the loss\n",
    "        if loss_type == \"MSE\":\n",
    "            lossmse = nn.MSELoss()\n",
    "            loss = lossmse(output, target.view(-1,1))\n",
    "        else:\n",
    "            losscross = nn.CrossEntropyLoss()\n",
    "            loss = losscross(output, target)\n",
    "\n",
    "        # compute the gradients\n",
    "        loss.backward()\n",
    "\n",
    "        # perform the gradient step\n",
    "        optimizer.step()\n",
    "\n",
    "        running_loss += loss.item()\n",
    "        \n",
    "    return running_loss / len(train_dataloader.dataset)\n",
    "\n",
    "\n",
    "def fit(\n",
    "    model: nn.Module, \n",
    "    train_dataloader: DataLoader, \n",
    "    test_dataloader: DataLoader,\n",
    "    optimizer: torch.optim.Optimizer, \n",
    "    epochs: int, \n",
    "    device: torch.device,\n",
    "    loss_type: str):\n",
    "    '''\n",
    "    Call the train_epoch() method and predict() method for a specified number of epochs.\n",
    "    :param model: The model to train/test\n",
    "    :param train_dataloader: The dataloader to use for training\n",
    "    :param test_dataloader: The dataloader to use for testing\n",
    "    :param optimizer: The optimizer to use for training\n",
    "    :param epochs: The number of epochs to train/test for\n",
    "    :param device: The device to use for training/testing\n",
    "    :param loss_type: The loss function to use for training, either \"MSE\" or \"CrossEntropy\"\n",
    "    :return: The training and testing losses for each epoch\n",
    "    '''\n",
    "\n",
    "    # Train for numerous epochs:\n",
    "    train_loss = []\n",
    "    test_loss = []\n",
    "\n",
    "    for epoch in range(epochs):\n",
    "        train_losses = train_epoch(model=model, train_dataloader=train_dataloader, optimizer=optimizer, device=device, loss_type=loss_type)\n",
    "        train_loss.append(train_losses)\n",
    "        \n",
    "        test_losses = predict(model=model, test_dataloader=test_dataloader, optimizer=optimizer, device=device, loss_type=loss_type)\n",
    "        test_loss.append(test_losses)\n",
    "\n",
    "    return train_loss, test_loss\n",
    "\n",
    "\n",
    "def predict(model: nn.Module, test_dataloader: DataLoader, optimizer: torch.optim.Optimizer, device: torch.device, loss_type: str):\n",
    "    '''\n",
    "    Test the model.\n",
    "    :param model: The model to test\n",
    "    :param test_dataloader: The dataloader to use for testing\n",
    "    :param optimizer: The optimizer to use for testing\n",
    "    :param device: The device to use for testing\n",
    "    :param loss_type: The loss function to use for training, either \"MSE\" or \"CrossEntropy\"\n",
    "    :return: The loss for the epoch\n",
    "    '''\n",
    "    model = model.to(device)\n",
    "    model.eval()\n",
    "    test_loss = 0\n",
    "    with torch.no_grad():\n",
    "        for data, target in test_dataloader:\n",
    "            # move data and target to device\n",
    "            if loss_type == \"MSE\":\n",
    "                data, target = data.to(device), target.to(torch.float32).to(device)\n",
    "            else:\n",
    "                data, target = data.to(device), target.to(device)\n",
    "\n",
    "            # do the forward pass\n",
    "            output = model(data)\n",
    "\n",
    "            # compute the loss\n",
    "            if loss_type == \"MSE\":\n",
    "                lossmse = nn.MSELoss()\n",
    "                loss = lossmse(output, target.view(-1,1))\n",
    "            else:\n",
    "                losscross = nn.CrossEntropyLoss()\n",
    "                loss = losscross(output, target)\n",
    "     \n",
    "            test_loss += loss.item()\n",
    "\n",
    "    return test_loss / len(test_dataloader.dataset)"
   ]
  },
  {
   "cell_type": "code",
   "execution_count": 283,
   "metadata": {},
   "outputs": [],
   "source": [
    "def compute_hidden_layer_size(param_counts, current_count, factor, num_classes = 10):\n",
    "    '''\n",
    "    Compute the hidden layer size for a given number of parameters.\n",
    "    :param param_counts: A list of the number of parameters for each layer\n",
    "    :param current_count: The index of the current layer\n",
    "    :param factor: The factor to use for computing the hidden layer size\n",
    "    :param num_classes: The number of classes in the dataset\n",
    "    :return: The hidden layer size\n",
    "    '''\n",
    "    d = 784\n",
    "    K = num_classes\n",
    "    H = (param_counts[current_count] * factor - K)// (d + 1 + K)\n",
    "    return H"
   ]
  },
  {
   "cell_type": "code",
   "execution_count": 261,
   "metadata": {},
   "outputs": [
    {
     "name": "stdout",
     "output_type": "stream",
     "text": [
      "Neural Network with 3 hidden units\n",
      "Neural Network with 3 hidden units\n",
      "Neural Network with 5 hidden units\n",
      "Neural Network with 5 hidden units\n",
      "Neural Network with 8 hidden units\n",
      "Neural Network with 8 hidden units\n",
      "Neural Network with 12 hidden units\n",
      "Neural Network with 12 hidden units\n",
      "Neural Network with 18 hidden units\n",
      "Neural Network with 18 hidden units\n",
      "Neural Network with 25 hidden units\n",
      "Neural Network with 25 hidden units\n"
     ]
    }
   ],
   "source": [
    "x_axis = []\n",
    "models_MSE = []\n",
    "models_Cross = []\n",
    "\n",
    "param_counts = np.array([3, 4, 7, 10, 15, 20])\n",
    "current_count = 0\n",
    "factor = 10**3\n",
    "K = 10\n",
    "loss_dict = {'train': [], 'test': [], 'train_cross': [], 'test_cross': [], 'parameter_count': []}\n",
    "while current_count < len(param_counts):\n",
    "    reuse_weights = False\n",
    "    hidden_layer_size = compute_hidden_layer_size(param_counts, current_count, factor)\n",
    "    H = hidden_layer_size\n",
    "    modelMSE = NeuralNetworkMSE(current_count, param_counts,factor, H)\n",
    "    modelMSE = modelMSE.to(DEVICE)\n",
    "\n",
    "    modelCross = NeuralNetworkCross(current_count, param_counts,factor, H)\n",
    "    modelCross = modelCross.to(DEVICE)\n",
    "    \n",
    "    optimizerMSE = optim.SGD(modelMSE.parameters(), lr=0.01, momentum=0.95)\n",
    "    optimizerCross = optim.SGD(modelCross.parameters(), lr=0.01, momentum=0.95)\n",
    "    \n",
    "    train_loss, test_loss = fit(model = modelMSE, train_dataloader = train_loader, \n",
    "                                test_dataloader = test_loader, optimizer = optimizerMSE, epochs=5, device=DEVICE, loss_type = \"MSE\")\n",
    "    train_loss_cross, test_loss_cross = fit(model = modelCross, train_dataloader = train_loader, \n",
    "                                            test_dataloader = test_loader, optimizer = optimizerCross, epochs=5, device=DEVICE, loss_type = \"Cross\")\n",
    "\n",
    "    models_MSE.append(modelMSE)\n",
    "    models_Cross.append(modelCross)\n",
    "    \n",
    "    loss_dict['train'] = np.append(loss_dict['train'], train_loss[-1])\n",
    "    loss_dict['test'] = np.append(loss_dict['test'], test_loss[-1])\n",
    "    loss_dict['train_cross'] = np.append(loss_dict['train_cross'], train_loss_cross[-1])\n",
    "    loss_dict['test_cross'] = np.append(loss_dict['test_cross'], test_loss_cross[-1])\n",
    "    loss_dict['parameter_count'] = np.append(loss_dict['parameter_count'], param_counts[current_count])\n",
    "    current_count += 1"
   ]
  },
  {
   "cell_type": "code",
   "execution_count": 262,
   "metadata": {},
   "outputs": [
    {
     "data": {
      "text/plain": [
       "{'train': array([3.55489581, 3.53565461, 5.01895016, 3.4099889 , 2.73817924,\n",
       "        2.70103644]),\n",
       " 'test': array([3.64614227, 3.80034959, 4.80176073, 4.08422554, 3.14798301,\n",
       "        3.1067017 ]),\n",
       " 'train_cross': array([1.06377716, 0.66001671, 0.46161024, 0.43054802, 0.36852564,\n",
       "        0.38239402]),\n",
       " 'test_cross': array([1.14373562, 0.69608637, 0.58333128, 0.53050805, 0.44173285,\n",
       "        0.46776974]),\n",
       " 'parameter_count': array([ 3.,  4.,  7., 10., 15., 20.])}"
      ]
     },
     "execution_count": 262,
     "metadata": {},
     "output_type": "execute_result"
    }
   ],
   "source": [
    "loss_dict"
   ]
  },
  {
   "cell_type": "code",
   "execution_count": null,
   "metadata": {},
   "outputs": [],
   "source": [
    "def number_parameters(model):\n",
    "    ''' \n",
    "    Returns the number of parameters in a model\n",
    "    :param model: The model to compute the number of parameters for\n",
    "    :return: The number of parameters in the model\n",
    "    '''\n",
    "    nump=0\n",
    "    for p in list(model.parameters()):\n",
    "        a=1\n",
    "        for b in list(p.size()):\n",
    "            a = a*b\n",
    "        nump += a\n",
    "    return nump"
   ]
  },
  {
   "cell_type": "code",
   "execution_count": null,
   "metadata": {},
   "outputs": [],
   "source": [
    "params_MSE = []\n",
    "params_Cross = []\n",
    "for i in range(len(param_counts)):\n",
    "  params_MSE.append(number_parameters(models_MSE[i]))\n",
    "  params_Cross.append(number_parameters(models_Cross[i]))"
   ]
  },
  {
   "cell_type": "code",
   "execution_count": 263,
   "metadata": {},
   "outputs": [],
   "source": [
    "def plot_NN(result_dict):\n",
    "    '''\n",
    "    Plot the double descent curve for the Neural Network model\n",
    "    :param result_dict: The dictionary containing the results\n",
    "    '''\n",
    "    fig, ax = plt.subplots(figsize=(8, 6), sharey = True)\n",
    "\n",
    "    plt.subplot(2,1,1)\n",
    "    plt.title(f'Neural network model: Double descent curve')\n",
    "    plt.plot(params_MSE, result_dict['train'], \n",
    "             color='tab:orange', label = 'Train')             \n",
    "    plt.plot(params_MSE, result_dict['test'], \n",
    "             color='tab:blue', label = 'Test')\n",
    "    plt.ylabel('Squared loss')\n",
    "    plt.legend()\n",
    "\n",
    "    plt.subplot(2,1,2)\n",
    "    plt.plot(params_Cross, result_dict['train_cross'], \n",
    "             color='tab:orange', label = 'Train')\n",
    "    plt.plot(params_Cross, result_dict['test_cross'], \n",
    "             color='tab:blue', label = 'Test')\n",
    "    plt.ylabel('Cross-entropy loss')\n",
    "    plt.xlabel('Model parameters')"
   ]
  },
  {
   "cell_type": "code",
   "execution_count": 264,
   "metadata": {},
   "outputs": [
    {
     "data": {
      "image/png": "[encoded data removed]",
      "text/plain": [
       "<Figure size 800x600 with 2 Axes>"
      ]
     },
     "metadata": {},
     "output_type": "display_data"
    }
   ],
   "source": [
    "plot_NN(loss_dict)"
   ]
  },
  {
   "attachments": {},
   "cell_type": "markdown",
   "metadata": {},
   "source": [
    "### Attempt 3: Random Forests"
   ]
  },
  {
   "cell_type": "code",
   "execution_count": 284,
   "metadata": {},
   "outputs": [],
   "source": [
    "def sk_zero_one_loss(y_true, y_pred):\n",
    "    '''\n",
    "    Returns the percentage of misclassifications\n",
    "    :param y_true: ground truth (correct) labels\n",
    "    :param y_pred: predicted labels, as returned by a classifier\n",
    "    :return: the zero-one classification loss\n",
    "    '''\n",
    "    return zero_one_loss(y_true, y_pred)*100\n",
    "\n",
    "def sk_mean_squared_error(y_true, y_pred):\n",
    "    '''\n",
    "    Returns the mean squared error regression loss\n",
    "    :param y_true: ground truth (correct) labels\n",
    "    :param y_pred: predicted labels, as returned by a classifier\n",
    "    :return: the mean squared error regression loss\n",
    "    '''\n",
    "    return mean_squared_error(y_true, y_pred)\n",
    "    \n",
    "def one_hot_encode(data, classes=10):\n",
    "    '''\n",
    "    Represent categorical variables as binary vectors (one-hot encoding).\n",
    "    :param data: an array that we perform the One Hot Encoding on, i.e., we transform each datapoint to a binary vector\n",
    "    :param classes: number of classes we aim to identify in the dataset\n",
    "    :return: a numpy array with the one-hot encoded data\n",
    "    '''\n",
    "    onehot_encoded = []\n",
    "    for value in data:\n",
    "        vec = np.array([0] * classes)\n",
    "        vec[int(value)] = 1\n",
    "        onehot_encoded.append(vec)\n",
    "        \n",
    "    return np.stack(onehot_encoded)"
   ]
  },
  {
   "cell_type": "code",
   "execution_count": 286,
   "metadata": {},
   "outputs": [],
   "source": [
    "\n",
    "def double_descent_RF(tree_bound = 20, leaves_bound = 2000, tree_step = 1, leaves_step = 100, \n",
    "                      X_train = X_train, y_train = y_train, X_test = X_test, y_test = y_test):\n",
    "    '''\n",
    "    Train a Random Forest Classifier over several different values of the parameters number of trees (N_tree)\n",
    "    and the maximum number of leaves allowed for each tree (N_max_leaf)\n",
    "    :param tree_bound: the upper bound for N_tree\n",
    "    :param leaves_bound: the upper bound for N_max_leaf\n",
    "    :param tree_step: the step for N_tree\n",
    "    :param leaves_step: the step for N_max_leaf\n",
    "    :param X_train: the train data \n",
    "    :param y_train: the train targets\n",
    "    :param X_test: the test data\n",
    "    :param y_test: the test targets\n",
    "    :param rep: the number of repetitions of experiments\n",
    "    :return: result_dict\n",
    "    '''\n",
    "\n",
    "    # we initialize the model with N_tree = 1 and N_max_leaf = 10\n",
    "    N_max_leaves = 10\n",
    "    N_tree = 1\n",
    "    model = RandomForestClassifier(n_estimators=N_tree, \n",
    "                                   bootstrap=False, \n",
    "                                   criterion='gini', \n",
    "                                   max_leaf_nodes=N_max_leaves,\n",
    "                                   max_features='sqrt',\n",
    "                                   max_depth = None)\n",
    "    \n",
    "    leaf_sizes = []\n",
    "    trees = []\n",
    "\n",
    "    # initialize training losses\n",
    "    zero_one_train_losses = []\n",
    "    mse_train_losses = []\n",
    "    \n",
    "    # initialize testing losses\n",
    "    zero_one_test_losses = []\n",
    "    mse_test_losses = []\n",
    "\n",
    "    while N_max_leaves <= leaves_bound:\n",
    "\n",
    "        model.fit(X_train, y_train)\n",
    "        \n",
    "        # find training loss\n",
    "        zero_one_train_loss = sk_zero_one_loss(y_train, model.predict(X_train))\n",
    "        mse_train_loss = sk_mean_squared_error(one_hot_encode(y_train), one_hot_encode(model.predict(X_train)))\n",
    "        \n",
    "        # find testing loss\n",
    "        zero_one_test_loss = sk_zero_one_loss(y_test, model.predict(X_test))   \n",
    "        mse_test_loss = sk_mean_squared_error(one_hot_encode(y_test), one_hot_encode(model.predict(X_test)))\n",
    "        \n",
    "        # add training and testing loss to the training and testing losses arrays\n",
    "        zero_one_train_losses = np.append(zero_one_train_losses, zero_one_train_loss)\n",
    "        mse_train_losses = np.append(mse_train_losses, mse_train_loss)\n",
    "        \n",
    "        zero_one_test_losses = np.append(zero_one_test_losses, zero_one_test_loss)\n",
    "        mse_test_losses = np.append(mse_test_losses, mse_test_loss)\n",
    "\n",
    "        leaf_sizes.append(N_max_leaves)\n",
    "        trees.append(N_tree)\n",
    "        \n",
    "        if (N_max_leaves == 10):\n",
    "            N_max_leaves = leaves_step\n",
    "        else:\n",
    "            N_max_leaves += leaves_step\n",
    "                \n",
    "        # define the model for every new value of N_max_leaves  \n",
    "        model = RandomForestClassifier(n_estimators=N_tree, \n",
    "                                       bootstrap=False, \n",
    "                                       criterion='gini', \n",
    "                                       max_leaf_nodes=N_max_leaves,\n",
    "                                       max_features='sqrt',\n",
    "                                       max_depth = None)\n",
    "\n",
    "    N_max_leaves = N_max_leaves - leaves_step\n",
    "                \n",
    "    while N_tree <= tree_bound:\n",
    "            \n",
    "        # define the model for every new value of N_tree\n",
    "        model = RandomForestClassifier(n_estimators=N_tree, \n",
    "                                       bootstrap=False, \n",
    "                                       criterion='gini', \n",
    "                                       max_leaf_nodes=N_max_leaves,\n",
    "                                       max_features='sqrt',\n",
    "                                       max_depth = None)\n",
    "        \n",
    "        model.fit(X_train, y_train)\n",
    "\n",
    "        # find training loss\n",
    "        zero_one_train_loss = sk_zero_one_loss(y_train, model.predict(X_train))\n",
    "        mse_train_loss = sk_mean_squared_error(one_hot_encode(y_train), one_hot_encode(model.predict(X_train)))\n",
    "        \n",
    "        # find testing loss\n",
    "        zero_one_test_loss = sk_zero_one_loss(y_test, model.predict(X_test))   \n",
    "        mse_test_loss = sk_mean_squared_error(one_hot_encode(y_test), one_hot_encode(model.predict(X_test)))\n",
    "\n",
    "        # add training and testing loss to the training and testing losses arrays\n",
    "        zero_one_train_losses = np.append(zero_one_train_losses, zero_one_train_loss)\n",
    "        mse_train_losses = np.append(mse_train_losses, mse_train_loss)\n",
    "        \n",
    "        zero_one_test_losses = np.append(zero_one_test_losses, zero_one_test_loss)\n",
    "        mse_test_losses = np.append(mse_test_losses, mse_test_loss)\n",
    "\n",
    "        leaf_sizes.append(N_max_leaves)\n",
    "        trees.append(N_tree)\n",
    "            \n",
    "        N_tree += tree_step\n",
    "            \n",
    "    result_dict = {'zero_one_train_loss': zero_one_train_losses, \n",
    "                   'mse_train_loss': mse_train_losses, \n",
    "                   'zero_one_test_loss': zero_one_test_losses,\n",
    "                   'mse_test_loss': mse_test_losses,\n",
    "                   'leaf_sizes': np.array(leaf_sizes), \n",
    "                   'trees': np.array(trees)}    \n",
    "    \n",
    "    return result_dict\n",
    "\n"
   ]
  },
  {
   "cell_type": "code",
   "execution_count": null,
   "metadata": {},
   "outputs": [],
   "source": [
    "out = double_descent_RF(tree_bound = 20, leaves_bound = 2000, tree_step = 1, leaves_step = 100, \n",
    "                        X_train= X_train, y_train=y_train, X_test=X_test, y_test=y_test)"
   ]
  },
  {
   "cell_type": "code",
   "execution_count": null,
   "metadata": {},
   "outputs": [],
   "source": [
    "out = {'zero_one_train_loss': np.array(0), \n",
    "        'mse_train_loss': np.array(0), \n",
    "        'zero_one_test_loss': np.array(0),\n",
    "        'mse_test_loss': np.array(0),\n",
    "        'leaf_sizes': np.array(0), \n",
    "        'trees': np.array(0)} "
   ]
  },
  {
   "cell_type": "code",
   "execution_count": null,
   "metadata": {},
   "outputs": [],
   "source": [
    "# call double_descent five times and return the average of the results\n",
    "out1 = double_descent_RF(tree_bound = 20, leaves_bound = 2000, tree_step = 1, leaves_step = 100,\n",
    "                        X_train= X_train, y_train=y_train, X_test=X_test, y_test=y_test)\n",
    "out2 = double_descent_RF(tree_bound = 20, leaves_bound = 2000, tree_step = 1, leaves_step = 100,\n",
    "                        X_train= X_train, y_train=y_train, X_test=X_test, y_test=y_test)    \n",
    "out3 = double_descent_RF(tree_bound = 20, leaves_bound = 2000, tree_step = 1, leaves_step = 100,\n",
    "                        X_train= X_train, y_train=y_train, X_test=X_test, y_test=y_test)\n",
    "out4 = double_descent_RF(tree_bound = 20, leaves_bound = 2000, tree_step = 1, leaves_step = 100,    \n",
    "                        X_train= X_train, y_train=y_train, X_test=X_test, y_test=y_test)\n",
    "out5 = double_descent_RF(tree_bound = 20, leaves_bound = 2000, tree_step = 1, leaves_step = 100,\n",
    "                        X_train= X_train, y_train=y_train, X_test=X_test, y_test=y_test)\n",
    "                        "
   ]
  },
  {
   "cell_type": "code",
   "execution_count": null,
   "metadata": {},
   "outputs": [],
   "source": [
    "# average the results\n",
    "out['zero_one_train_loss'] = (out1['zero_one_train_loss'] + out2['zero_one_train_loss'] + out3['zero_one_train_loss'] + out4['zero_one_train_loss'] + out5['zero_one_train_loss'])/5\n",
    "out['mse_train_loss'] = (out1['mse_train_loss'] + out2['mse_train_loss'] + out3['mse_train_loss'] + out4['mse_train_loss'] + out5['mse_train_loss'])/5\n",
    "out['zero_one_test_loss'] = (out1['zero_one_test_loss'] + out2['zero_one_test_loss'] + out3['zero_one_test_loss'] + out4['zero_one_test_loss'] + out5['zero_one_test_loss'])/5\n",
    "out['mse_test_loss'] = (out1['mse_test_loss'] + out2['mse_test_loss'] + out3['mse_test_loss'] + out4['mse_test_loss'] + out5['mse_test_loss'])/5\n",
    "out['leaf_sizes'] = (out1['leaf_sizes'] + out2['leaf_sizes'] + out3['leaf_sizes'] + out4['leaf_sizes'] + out5['leaf_sizes'])/5\n",
    "out['trees'] = (out1['trees'] + out2['trees'] + out3['trees'] + out4['trees'] + out5['trees'])/5"
   ]
  },
  {
   "cell_type": "code",
   "execution_count": null,
   "metadata": {},
   "outputs": [],
   "source": [
    "def plot_RF(result_dict):\n",
    "    '''\n",
    "    Plot the double descent curve for the Random Forest Classifier\n",
    "    :param result_dict: the returned dictionary from the double_descent_RF function\n",
    "    '''\n",
    "    fig, ax = plt.subplots(figsize=(8, 6), sharey = True)\n",
    "\n",
    "    #define xticks\n",
    "    tick_location = [0, 10, 20, 30, 40]\n",
    "    tick_label = ['10 / 1', '1000 / 1', '2000 / 1', '2000 / 10', '2000 / 20']\n",
    "\n",
    "    plt.subplot(2,1,1)\n",
    "    plt.title(f'Random Forest model: Double descent curve')\n",
    "    plt.plot(range(len(result_dict['mse_train_loss'])), result_dict['mse_train_loss'], \n",
    "             color='tab:orange', label = 'Train')\n",
    "    plt.plot(range(len(result_dict['mse_test_loss'])), result_dict['mse_test_loss'], \n",
    "             color='tab:blue', label = 'Test')\n",
    "    plt.axvline(20, color = \"black\", linestyle='dashed')\n",
    "    plt.ylabel('Squared loss')\n",
    "    plt.xticks(tick_location, [])\n",
    "    plt.ylim(-0.001, 0.07)\n",
    "    plt.legend()\n",
    "\n",
    "    plt.subplot(2,1,2)\n",
    "    plt.plot(range(len(result_dict['zero_one_train_loss'])), result_dict['zero_one_train_loss'], \n",
    "             color='tab:orange', label = 'Train')\n",
    "    plt.plot(range(len(result_dict['zero_one_test_loss'])), result_dict['zero_one_test_loss'], \n",
    "             color='tab:blue', label = 'Test')\n",
    "    plt.axvline(20, color = \"black\", linestyle='dashed')\n",
    "    plt.ylabel('Zero-one loss (%)')\n",
    "    plt.xlabel('Model parameters: $N_{leaf}^{max}$ / $N_{tree}$')\n",
    "    plt.ylim(-0.5, 35)\n",
    "    plt.xticks(tick_location, tick_label)"
   ]
  },
  {
   "cell_type": "code",
   "execution_count": null,
   "metadata": {},
   "outputs": [
    {
     "data": {
      "image/png": "[encoded data removed]",
      "text/plain": [
       "<Figure size 800x600 with 2 Axes>"
      ]
     },
     "metadata": {},
     "output_type": "display_data"
    }
   ],
   "source": [
    "fig = plot_RF(out)\n",
    "# save figure\n",
    "plt.savefig('RF_double_descent.png', dpi=300)\n"
   ]
  }
 ],
 "metadata": {
  "kernelspec": {
   "display_name": "ada",
   "language": "python",
   "name": "python3"
  },
  "language_info": {
   "codemirror_mode": {
    "name": "ipython",
    "version": 3
   },
   "file_extension": ".py",
   "mimetype": "text/x-python",
   "name": "python",
   "nbconvert_exporter": "python",
   "pygments_lexer": "ipython3",
   "version": "3.9.12 (main, Apr  4 2022, 05:22:27) [MSC v.1916 64 bit (AMD64)]"
  },
  "vscode": {
   "interpreter": {
    "hash": "2ddbd0b842a978e03471eb3a4ae18fdd24eb8ad76bdab23b363108c4c8f6a59c"
   }
  }
 },
 "nbformat": 4,
 "nbformat_minor": 4
}
